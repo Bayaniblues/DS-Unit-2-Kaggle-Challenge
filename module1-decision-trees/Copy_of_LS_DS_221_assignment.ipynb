{
  "nbformat": 4,
  "nbformat_minor": 0,
  "metadata": {
    "kernelspec": {
      "display_name": "Python 3",
      "language": "python",
      "name": "python3"
    },
    "language_info": {
      "codemirror_mode": {
        "name": "ipython",
        "version": 3
      },
      "file_extension": ".py",
      "mimetype": "text/x-python",
      "name": "python",
      "nbconvert_exporter": "python",
      "pygments_lexer": "ipython3",
      "version": "3.7.3"
    },
    "colab": {
      "name": "Copy of LS_DS_221_assignment.ipynb",
      "provenance": [],
      "include_colab_link": true
    }
  },
  "cells": [
    {
      "cell_type": "markdown",
      "metadata": {
        "id": "view-in-github",
        "colab_type": "text"
      },
      "source": [
        "<a href=\"https://colab.research.google.com/github/Bayaniblues/DS-Unit-2-Kaggle-Challenge/blob/master/module1-decision-trees/Copy_of_LS_DS_221_assignment.ipynb\" target=\"_parent\"><img src=\"https://colab.research.google.com/assets/colab-badge.svg\" alt=\"Open In Colab\"/></a>"
      ]
    },
    {
      "cell_type": "markdown",
      "metadata": {
        "id": "bQV1EOuitp0u",
        "colab_type": "text"
      },
      "source": [
        "Lambda School Data Science\n",
        "\n",
        "*Unit 2, Sprint 2, Module 1*\n",
        "\n",
        "---"
      ]
    },
    {
      "cell_type": "markdown",
      "metadata": {
        "colab_type": "text",
        "id": "7IXUfiQ2UKj6"
      },
      "source": [
        "# Decision Trees\n",
        "\n",
        "## Assignment\n",
        "- [x] [Sign up for a Kaggle account](https://www.kaggle.com/), if you don’t already have one. Go to our Kaggle InClass competition website. You will be given the URL in Slack. Go to the Rules page. Accept the rules of the competition. Notice that the Rules page also has instructions for the Submission process. The Data page has feature definitions.\n",
        "- [x] Do train/validate/test split with the Tanzania Waterpumps data.\n",
        "- [x] Begin with baselines for classification.\n",
        "- [x] Select features. Use a scikit-learn pipeline to encode categoricals, impute missing values, and fit a decision tree classifier.\n",
        "- [x] Get your validation accuracy score.\n",
        "- [x] Get and plot your feature importances.\n",
        "- [ ] Submit your predictions to our Kaggle competition. (Go to our Kaggle InClass competition webpage. Use the blue **Submit Predictions** button to upload your CSV file. Or you can use the Kaggle API to submit your predictions.)\n",
        "- [ ] Commit your notebook to your fork of the GitHub repo.\n",
        "\n",
        "\n",
        "## Stretch Goals\n",
        "\n",
        "### Reading\n",
        "\n",
        "- A Visual Introduction to Machine Learning\n",
        "  - [Part 1: A Decision Tree](http://www.r2d3.us/visual-intro-to-machine-learning-part-1/)\n",
        "  - [Part 2: Bias and Variance](http://www.r2d3.us/visual-intro-to-machine-learning-part-2/)\n",
        "- [Decision Trees: Advantages & Disadvantages](https://christophm.github.io/interpretable-ml-book/tree.html#advantages-2)\n",
        "- [How a Russian mathematician constructed a decision tree — by hand — to solve a medical problem](http://fastml.com/how-a-russian-mathematician-constructed-a-decision-tree-by-hand-to-solve-a-medical-problem/)\n",
        "- [How decision trees work](https://brohrer.github.io/how_decision_trees_work.html)\n",
        "- [Let’s Write a Decision Tree Classifier from Scratch](https://www.youtube.com/watch?v=LDRbO9a6XPU) — _Don’t worry about understanding the code, just get introduced to the concepts. This 10 minute video has excellent diagrams and explanations._\n",
        "- [Random Forests for Complete Beginners: The definitive guide to Random Forests and Decision Trees](https://victorzhou.com/blog/intro-to-random-forests/)\n",
        "\n",
        "\n",
        "### Doing\n",
        "- [ ] Add your own stretch goal(s) !\n",
        "- [ ] Define a function to wrangle train, validate, and test sets in the same way. Clean outliers and engineer features. (For example, [what columns have zeros and shouldn't?](https://github.com/Quartz/bad-data-guide#zeros-replace-missing-values) What columns are duplicates, or nearly duplicates? Can you extract the year from date_recorded? Can you engineer new features, such as the number of years from waterpump construction to waterpump inspection?)\n",
        "- [ ] Try other [scikit-learn imputers](https://scikit-learn.org/stable/modules/impute.html).\n",
        "- [ ] Make exploratory visualizations and share on Slack.\n",
        "\n",
        "\n",
        "#### Exploratory visualizations\n",
        "\n",
        "Visualize the relationships between feature(s) and target. I recommend you do this with your training set, after splitting your data. \n",
        "\n",
        "For this problem, you may want to create a new column to represent the target as a number, 0 or 1. For example:\n",
        "\n",
        "```python\n",
        "train['functional'] = (train['status_group']=='functional').astype(int)\n",
        "```\n",
        "\n",
        "\n",
        "\n",
        "You can try [Seaborn \"Categorical estimate\" plots](https://seaborn.pydata.org/tutorial/categorical.html) for features with reasonably few unique values. (With too many unique values, the plot is unreadable.)\n",
        "\n",
        "- Categorical features. (If there are too many unique values, you can replace less frequent values with \"OTHER.\")\n",
        "- Numeric features. (If there are too many unique values, you can [bin with pandas cut / qcut functions](https://pandas.pydata.org/pandas-docs/stable/getting_started/basics.html?highlight=qcut#discretization-and-quantiling).)\n",
        "\n",
        "You can try [Seaborn linear model plots](https://seaborn.pydata.org/tutorial/regression.html) with numeric features. For this classification problem, you may want to use the parameter `logistic=True`, but it can be slow.\n",
        "\n",
        "You do _not_ need to use Seaborn, but it's nice because it includes confidence intervals to visualize uncertainty.\n",
        "\n",
        "#### High-cardinality categoricals\n",
        "\n",
        "This code from a previous assignment demonstrates how to replace less frequent values with 'OTHER'\n",
        "\n",
        "```python\n",
        "# Reduce cardinality for NEIGHBORHOOD feature ...\n",
        "\n",
        "# Get a list of the top 10 neighborhoods\n",
        "top10 = train['NEIGHBORHOOD'].value_counts()[:10].index\n",
        "\n",
        "# At locations where the neighborhood is NOT in the top 10,\n",
        "# replace the neighborhood with 'OTHER'\n",
        "train.loc[~train['NEIGHBORHOOD'].isin(top10), 'NEIGHBORHOOD'] = 'OTHER'\n",
        "test.loc[~test['NEIGHBORHOOD'].isin(top10), 'NEIGHBORHOOD'] = 'OTHER'\n",
        "```\n"
      ]
    },
    {
      "cell_type": "code",
      "metadata": {
        "colab_type": "code",
        "id": "o9eSnDYhUGD7",
        "colab": {
          "base_uri": "https://localhost:8080/",
          "height": 1000
        },
        "outputId": "22099dae-b53e-4273-8809-dad9d3a27663"
      },
      "source": [
        "import sys\n",
        "\n",
        "# If you're on Colab:\n",
        "if 'google.colab' in sys.modules:\n",
        "    DATA_PATH = 'https://raw.githubusercontent.com/LambdaSchool/DS-Unit-2-Kaggle-Challenge/master/data/'\n",
        "    !pip install category_encoders==2.*\n",
        "    !pip install pandas-profiling==2.*\n",
        "\n",
        "# If you're working locally:\n",
        "else:\n",
        "    DATA_PATH = '../data/'"
      ],
      "execution_count": 1,
      "outputs": [
        {
          "output_type": "stream",
          "text": [
            "Collecting category_encoders==2.*\n",
            "\u001b[?25l  Downloading https://files.pythonhosted.org/packages/44/57/fcef41c248701ee62e8325026b90c432adea35555cbc870aff9cfba23727/category_encoders-2.2.2-py2.py3-none-any.whl (80kB)\n",
            "\r\u001b[K     |████                            | 10kB 20.2MB/s eta 0:00:01\r\u001b[K     |████████▏                       | 20kB 1.6MB/s eta 0:00:01\r\u001b[K     |████████████▏                   | 30kB 2.1MB/s eta 0:00:01\r\u001b[K     |████████████████▎               | 40kB 2.4MB/s eta 0:00:01\r\u001b[K     |████████████████████▎           | 51kB 2.0MB/s eta 0:00:01\r\u001b[K     |████████████████████████▍       | 61kB 2.2MB/s eta 0:00:01\r\u001b[K     |████████████████████████████▍   | 71kB 2.4MB/s eta 0:00:01\r\u001b[K     |████████████████████████████████| 81kB 2.2MB/s \n",
            "\u001b[?25hRequirement already satisfied: scipy>=1.0.0 in /usr/local/lib/python3.6/dist-packages (from category_encoders==2.*) (1.4.1)\n",
            "Requirement already satisfied: pandas>=0.21.1 in /usr/local/lib/python3.6/dist-packages (from category_encoders==2.*) (1.0.5)\n",
            "Requirement already satisfied: patsy>=0.5.1 in /usr/local/lib/python3.6/dist-packages (from category_encoders==2.*) (0.5.1)\n",
            "Requirement already satisfied: statsmodels>=0.9.0 in /usr/local/lib/python3.6/dist-packages (from category_encoders==2.*) (0.10.2)\n",
            "Requirement already satisfied: numpy>=1.14.0 in /usr/local/lib/python3.6/dist-packages (from category_encoders==2.*) (1.18.5)\n",
            "Requirement already satisfied: scikit-learn>=0.20.0 in /usr/local/lib/python3.6/dist-packages (from category_encoders==2.*) (0.22.2.post1)\n",
            "Requirement already satisfied: pytz>=2017.2 in /usr/local/lib/python3.6/dist-packages (from pandas>=0.21.1->category_encoders==2.*) (2018.9)\n",
            "Requirement already satisfied: python-dateutil>=2.6.1 in /usr/local/lib/python3.6/dist-packages (from pandas>=0.21.1->category_encoders==2.*) (2.8.1)\n",
            "Requirement already satisfied: six in /usr/local/lib/python3.6/dist-packages (from patsy>=0.5.1->category_encoders==2.*) (1.12.0)\n",
            "Requirement already satisfied: joblib>=0.11 in /usr/local/lib/python3.6/dist-packages (from scikit-learn>=0.20.0->category_encoders==2.*) (0.16.0)\n",
            "Installing collected packages: category-encoders\n",
            "Successfully installed category-encoders-2.2.2\n",
            "Collecting pandas-profiling==2.*\n",
            "\u001b[?25l  Downloading https://files.pythonhosted.org/packages/b9/94/ef8ef4517540d13406fcc0b8adfd75336e014242c69bd4162ab46931f36a/pandas_profiling-2.8.0-py2.py3-none-any.whl (259kB)\n",
            "\u001b[K     |████████████████████████████████| 266kB 2.8MB/s \n",
            "\u001b[?25hRequirement already satisfied: matplotlib>=3.2.0 in /usr/local/lib/python3.6/dist-packages (from pandas-profiling==2.*) (3.2.2)\n",
            "Collecting htmlmin>=0.1.12\n",
            "  Downloading https://files.pythonhosted.org/packages/b3/e7/fcd59e12169de19f0131ff2812077f964c6b960e7c09804d30a7bf2ab461/htmlmin-0.1.12.tar.gz\n",
            "Requirement already satisfied: ipywidgets>=7.5.1 in /usr/local/lib/python3.6/dist-packages (from pandas-profiling==2.*) (7.5.1)\n",
            "Requirement already satisfied: numpy>=1.16.0 in /usr/local/lib/python3.6/dist-packages (from pandas-profiling==2.*) (1.18.5)\n",
            "Collecting phik>=0.9.10\n",
            "\u001b[?25l  Downloading https://files.pythonhosted.org/packages/01/5a/7ef1c04ce62cd72f900c06298dc2385840550d5c653a0dbc19109a5477e6/phik-0.10.0-py3-none-any.whl (599kB)\n",
            "\u001b[K     |████████████████████████████████| 604kB 7.6MB/s \n",
            "\u001b[?25hCollecting tangled-up-in-unicode>=0.0.6\n",
            "\u001b[?25l  Downloading https://files.pythonhosted.org/packages/4a/e2/e588ab9298d4989ce7fdb2b97d18aac878d99dbdc379a4476a09d9271b68/tangled_up_in_unicode-0.0.6-py3-none-any.whl (3.1MB)\n",
            "\u001b[K     |████████████████████████████████| 3.1MB 16.4MB/s \n",
            "\u001b[?25hCollecting tqdm>=4.43.0\n",
            "\u001b[?25l  Downloading https://files.pythonhosted.org/packages/46/62/7663894f67ac5a41a0d8812d78d9d2a9404124051885af9d77dc526fb399/tqdm-4.47.0-py2.py3-none-any.whl (66kB)\n",
            "\u001b[K     |████████████████████████████████| 71kB 8.8MB/s \n",
            "\u001b[?25hRequirement already satisfied: scipy>=1.4.1 in /usr/local/lib/python3.6/dist-packages (from pandas-profiling==2.*) (1.4.1)\n",
            "Requirement already satisfied: astropy>=4.0 in /usr/local/lib/python3.6/dist-packages (from pandas-profiling==2.*) (4.0.1.post1)\n",
            "Collecting confuse>=1.0.0\n",
            "\u001b[?25l  Downloading https://files.pythonhosted.org/packages/b5/6d/bedc0d1068bd244cee05843313cbec6cebb9f01f925538269bababc6d887/confuse-1.3.0-py2.py3-none-any.whl (64kB)\n",
            "\u001b[K     |████████████████████████████████| 71kB 9.7MB/s \n",
            "\u001b[?25hCollecting visions[type_image_path]==0.4.4\n",
            "\u001b[?25l  Downloading https://files.pythonhosted.org/packages/4a/03/5a45d542257830cf1d9da2cdc1c0bc6f55a9212937b70fdd6d7031b46d6c/visions-0.4.4-py3-none-any.whl (59kB)\n",
            "\u001b[K     |████████████████████████████████| 61kB 7.9MB/s \n",
            "\u001b[?25hRequirement already satisfied: requests>=2.23.0 in /usr/local/lib/python3.6/dist-packages (from pandas-profiling==2.*) (2.23.0)\n",
            "Requirement already satisfied: missingno>=0.4.2 in /usr/local/lib/python3.6/dist-packages (from pandas-profiling==2.*) (0.4.2)\n",
            "Requirement already satisfied: pandas!=1.0.0,!=1.0.1,!=1.0.2,>=0.25.3 in /usr/local/lib/python3.6/dist-packages (from pandas-profiling==2.*) (1.0.5)\n",
            "Requirement already satisfied: joblib in /usr/local/lib/python3.6/dist-packages (from pandas-profiling==2.*) (0.16.0)\n",
            "Requirement already satisfied: jinja2>=2.11.1 in /usr/local/lib/python3.6/dist-packages (from pandas-profiling==2.*) (2.11.2)\n",
            "Requirement already satisfied: cycler>=0.10 in /usr/local/lib/python3.6/dist-packages (from matplotlib>=3.2.0->pandas-profiling==2.*) (0.10.0)\n",
            "Requirement already satisfied: kiwisolver>=1.0.1 in /usr/local/lib/python3.6/dist-packages (from matplotlib>=3.2.0->pandas-profiling==2.*) (1.2.0)\n",
            "Requirement already satisfied: pyparsing!=2.0.4,!=2.1.2,!=2.1.6,>=2.0.1 in /usr/local/lib/python3.6/dist-packages (from matplotlib>=3.2.0->pandas-profiling==2.*) (2.4.7)\n",
            "Requirement already satisfied: python-dateutil>=2.1 in /usr/local/lib/python3.6/dist-packages (from matplotlib>=3.2.0->pandas-profiling==2.*) (2.8.1)\n",
            "Requirement already satisfied: ipykernel>=4.5.1 in /usr/local/lib/python3.6/dist-packages (from ipywidgets>=7.5.1->pandas-profiling==2.*) (4.10.1)\n",
            "Requirement already satisfied: nbformat>=4.2.0 in /usr/local/lib/python3.6/dist-packages (from ipywidgets>=7.5.1->pandas-profiling==2.*) (5.0.7)\n",
            "Requirement already satisfied: widgetsnbextension~=3.5.0 in /usr/local/lib/python3.6/dist-packages (from ipywidgets>=7.5.1->pandas-profiling==2.*) (3.5.1)\n",
            "Requirement already satisfied: ipython>=4.0.0; python_version >= \"3.3\" in /usr/local/lib/python3.6/dist-packages (from ipywidgets>=7.5.1->pandas-profiling==2.*) (5.5.0)\n",
            "Requirement already satisfied: traitlets>=4.3.1 in /usr/local/lib/python3.6/dist-packages (from ipywidgets>=7.5.1->pandas-profiling==2.*) (4.3.3)\n",
            "Requirement already satisfied: numba>=0.38.1 in /usr/local/lib/python3.6/dist-packages (from phik>=0.9.10->pandas-profiling==2.*) (0.48.0)\n",
            "Requirement already satisfied: pyyaml in /usr/local/lib/python3.6/dist-packages (from confuse>=1.0.0->pandas-profiling==2.*) (3.13)\n",
            "Requirement already satisfied: attrs>=19.3.0 in /usr/local/lib/python3.6/dist-packages (from visions[type_image_path]==0.4.4->pandas-profiling==2.*) (19.3.0)\n",
            "Requirement already satisfied: networkx>=2.4 in /usr/local/lib/python3.6/dist-packages (from visions[type_image_path]==0.4.4->pandas-profiling==2.*) (2.4)\n",
            "Requirement already satisfied: Pillow; extra == \"type_image_path\" in /usr/local/lib/python3.6/dist-packages (from visions[type_image_path]==0.4.4->pandas-profiling==2.*) (7.0.0)\n",
            "Collecting imagehash; extra == \"type_image_path\"\n",
            "\u001b[?25l  Downloading https://files.pythonhosted.org/packages/1a/5d/cc81830be3c4705a46cdbca74439b67f1017881383ba0127c41c4cecb7b3/ImageHash-4.1.0.tar.gz (291kB)\n",
            "\u001b[K     |████████████████████████████████| 296kB 37.1MB/s \n",
            "\u001b[?25hRequirement already satisfied: chardet<4,>=3.0.2 in /usr/local/lib/python3.6/dist-packages (from requests>=2.23.0->pandas-profiling==2.*) (3.0.4)\n",
            "Requirement already satisfied: certifi>=2017.4.17 in /usr/local/lib/python3.6/dist-packages (from requests>=2.23.0->pandas-profiling==2.*) (2020.6.20)\n",
            "Requirement already satisfied: urllib3!=1.25.0,!=1.25.1,<1.26,>=1.21.1 in /usr/local/lib/python3.6/dist-packages (from requests>=2.23.0->pandas-profiling==2.*) (1.24.3)\n",
            "Requirement already satisfied: idna<3,>=2.5 in /usr/local/lib/python3.6/dist-packages (from requests>=2.23.0->pandas-profiling==2.*) (2.10)\n",
            "Requirement already satisfied: seaborn in /usr/local/lib/python3.6/dist-packages (from missingno>=0.4.2->pandas-profiling==2.*) (0.10.1)\n",
            "Requirement already satisfied: pytz>=2017.2 in /usr/local/lib/python3.6/dist-packages (from pandas!=1.0.0,!=1.0.1,!=1.0.2,>=0.25.3->pandas-profiling==2.*) (2018.9)\n",
            "Requirement already satisfied: MarkupSafe>=0.23 in /usr/local/lib/python3.6/dist-packages (from jinja2>=2.11.1->pandas-profiling==2.*) (1.1.1)\n",
            "Requirement already satisfied: six in /usr/local/lib/python3.6/dist-packages (from cycler>=0.10->matplotlib>=3.2.0->pandas-profiling==2.*) (1.12.0)\n",
            "Requirement already satisfied: jupyter-client in /usr/local/lib/python3.6/dist-packages (from ipykernel>=4.5.1->ipywidgets>=7.5.1->pandas-profiling==2.*) (5.3.5)\n",
            "Requirement already satisfied: tornado>=4.0 in /usr/local/lib/python3.6/dist-packages (from ipykernel>=4.5.1->ipywidgets>=7.5.1->pandas-profiling==2.*) (4.5.3)\n",
            "Requirement already satisfied: ipython-genutils in /usr/local/lib/python3.6/dist-packages (from nbformat>=4.2.0->ipywidgets>=7.5.1->pandas-profiling==2.*) (0.2.0)\n",
            "Requirement already satisfied: jsonschema!=2.5.0,>=2.4 in /usr/local/lib/python3.6/dist-packages (from nbformat>=4.2.0->ipywidgets>=7.5.1->pandas-profiling==2.*) (2.6.0)\n",
            "Requirement already satisfied: jupyter-core in /usr/local/lib/python3.6/dist-packages (from nbformat>=4.2.0->ipywidgets>=7.5.1->pandas-profiling==2.*) (4.6.3)\n",
            "Requirement already satisfied: notebook>=4.4.1 in /usr/local/lib/python3.6/dist-packages (from widgetsnbextension~=3.5.0->ipywidgets>=7.5.1->pandas-profiling==2.*) (5.2.2)\n",
            "Requirement already satisfied: pexpect; sys_platform != \"win32\" in /usr/local/lib/python3.6/dist-packages (from ipython>=4.0.0; python_version >= \"3.3\"->ipywidgets>=7.5.1->pandas-profiling==2.*) (4.8.0)\n",
            "Requirement already satisfied: pygments in /usr/local/lib/python3.6/dist-packages (from ipython>=4.0.0; python_version >= \"3.3\"->ipywidgets>=7.5.1->pandas-profiling==2.*) (2.1.3)\n",
            "Requirement already satisfied: simplegeneric>0.8 in /usr/local/lib/python3.6/dist-packages (from ipython>=4.0.0; python_version >= \"3.3\"->ipywidgets>=7.5.1->pandas-profiling==2.*) (0.8.1)\n",
            "Requirement already satisfied: decorator in /usr/local/lib/python3.6/dist-packages (from ipython>=4.0.0; python_version >= \"3.3\"->ipywidgets>=7.5.1->pandas-profiling==2.*) (4.4.2)\n",
            "Requirement already satisfied: setuptools>=18.5 in /usr/local/lib/python3.6/dist-packages (from ipython>=4.0.0; python_version >= \"3.3\"->ipywidgets>=7.5.1->pandas-profiling==2.*) (49.1.0)\n",
            "Requirement already satisfied: pickleshare in /usr/local/lib/python3.6/dist-packages (from ipython>=4.0.0; python_version >= \"3.3\"->ipywidgets>=7.5.1->pandas-profiling==2.*) (0.7.5)\n",
            "Requirement already satisfied: prompt-toolkit<2.0.0,>=1.0.4 in /usr/local/lib/python3.6/dist-packages (from ipython>=4.0.0; python_version >= \"3.3\"->ipywidgets>=7.5.1->pandas-profiling==2.*) (1.0.18)\n",
            "Requirement already satisfied: llvmlite<0.32.0,>=0.31.0dev0 in /usr/local/lib/python3.6/dist-packages (from numba>=0.38.1->phik>=0.9.10->pandas-profiling==2.*) (0.31.0)\n",
            "Requirement already satisfied: PyWavelets in /usr/local/lib/python3.6/dist-packages (from imagehash; extra == \"type_image_path\"->visions[type_image_path]==0.4.4->pandas-profiling==2.*) (1.1.1)\n",
            "Requirement already satisfied: pyzmq>=13 in /usr/local/lib/python3.6/dist-packages (from jupyter-client->ipykernel>=4.5.1->ipywidgets>=7.5.1->pandas-profiling==2.*) (19.0.1)\n",
            "Requirement already satisfied: nbconvert in /usr/local/lib/python3.6/dist-packages (from notebook>=4.4.1->widgetsnbextension~=3.5.0->ipywidgets>=7.5.1->pandas-profiling==2.*) (5.6.1)\n",
            "Requirement already satisfied: terminado>=0.3.3; sys_platform != \"win32\" in /usr/local/lib/python3.6/dist-packages (from notebook>=4.4.1->widgetsnbextension~=3.5.0->ipywidgets>=7.5.1->pandas-profiling==2.*) (0.8.3)\n",
            "Requirement already satisfied: ptyprocess>=0.5 in /usr/local/lib/python3.6/dist-packages (from pexpect; sys_platform != \"win32\"->ipython>=4.0.0; python_version >= \"3.3\"->ipywidgets>=7.5.1->pandas-profiling==2.*) (0.6.0)\n",
            "Requirement already satisfied: wcwidth in /usr/local/lib/python3.6/dist-packages (from prompt-toolkit<2.0.0,>=1.0.4->ipython>=4.0.0; python_version >= \"3.3\"->ipywidgets>=7.5.1->pandas-profiling==2.*) (0.2.5)\n",
            "Requirement already satisfied: bleach in /usr/local/lib/python3.6/dist-packages (from nbconvert->notebook>=4.4.1->widgetsnbextension~=3.5.0->ipywidgets>=7.5.1->pandas-profiling==2.*) (3.1.5)\n",
            "Requirement already satisfied: testpath in /usr/local/lib/python3.6/dist-packages (from nbconvert->notebook>=4.4.1->widgetsnbextension~=3.5.0->ipywidgets>=7.5.1->pandas-profiling==2.*) (0.4.4)\n",
            "Requirement already satisfied: entrypoints>=0.2.2 in /usr/local/lib/python3.6/dist-packages (from nbconvert->notebook>=4.4.1->widgetsnbextension~=3.5.0->ipywidgets>=7.5.1->pandas-profiling==2.*) (0.3)\n",
            "Requirement already satisfied: defusedxml in /usr/local/lib/python3.6/dist-packages (from nbconvert->notebook>=4.4.1->widgetsnbextension~=3.5.0->ipywidgets>=7.5.1->pandas-profiling==2.*) (0.6.0)\n",
            "Requirement already satisfied: pandocfilters>=1.4.1 in /usr/local/lib/python3.6/dist-packages (from nbconvert->notebook>=4.4.1->widgetsnbextension~=3.5.0->ipywidgets>=7.5.1->pandas-profiling==2.*) (1.4.2)\n",
            "Requirement already satisfied: mistune<2,>=0.8.1 in /usr/local/lib/python3.6/dist-packages (from nbconvert->notebook>=4.4.1->widgetsnbextension~=3.5.0->ipywidgets>=7.5.1->pandas-profiling==2.*) (0.8.4)\n",
            "Requirement already satisfied: packaging in /usr/local/lib/python3.6/dist-packages (from bleach->nbconvert->notebook>=4.4.1->widgetsnbextension~=3.5.0->ipywidgets>=7.5.1->pandas-profiling==2.*) (20.4)\n",
            "Requirement already satisfied: webencodings in /usr/local/lib/python3.6/dist-packages (from bleach->nbconvert->notebook>=4.4.1->widgetsnbextension~=3.5.0->ipywidgets>=7.5.1->pandas-profiling==2.*) (0.5.1)\n",
            "Building wheels for collected packages: htmlmin, imagehash\n",
            "  Building wheel for htmlmin (setup.py) ... \u001b[?25l\u001b[?25hdone\n",
            "  Created wheel for htmlmin: filename=htmlmin-0.1.12-cp36-none-any.whl size=27084 sha256=4d68e26c7314d0c9df349d6c08fa07b98bd86a12279bedcc341396e4c6776437\n",
            "  Stored in directory: /root/.cache/pip/wheels/43/07/ac/7c5a9d708d65247ac1f94066cf1db075540b85716c30255459\n",
            "  Building wheel for imagehash (setup.py) ... \u001b[?25l\u001b[?25hdone\n",
            "  Created wheel for imagehash: filename=ImageHash-4.1.0-py2.py3-none-any.whl size=291990 sha256=7f78aa474821c729360e076d861638a8aec0c85f0255643e7eb392289a47e5b6\n",
            "  Stored in directory: /root/.cache/pip/wheels/07/1c/dc/6831446f09feb8cc199ec73a0f2f0703253f6ae013a22f4be9\n",
            "Successfully built htmlmin imagehash\n",
            "Installing collected packages: htmlmin, phik, tangled-up-in-unicode, tqdm, confuse, imagehash, visions, pandas-profiling\n",
            "  Found existing installation: tqdm 4.41.1\n",
            "    Uninstalling tqdm-4.41.1:\n",
            "      Successfully uninstalled tqdm-4.41.1\n",
            "  Found existing installation: pandas-profiling 1.4.1\n",
            "    Uninstalling pandas-profiling-1.4.1:\n",
            "      Successfully uninstalled pandas-profiling-1.4.1\n",
            "Successfully installed confuse-1.3.0 htmlmin-0.1.12 imagehash-4.1.0 pandas-profiling-2.8.0 phik-0.10.0 tangled-up-in-unicode-0.0.6 tqdm-4.47.0 visions-0.4.4\n"
          ],
          "name": "stdout"
        },
        {
          "output_type": "display_data",
          "data": {
            "application/vnd.colab-display-data+json": {
              "pip_warning": {
                "packages": [
                  "tqdm"
                ]
              }
            }
          },
          "metadata": {
            "tags": []
          }
        }
      ]
    },
    {
      "cell_type": "code",
      "metadata": {
        "colab_type": "code",
        "id": "QJBD4ruICm1m",
        "colab": {
          "base_uri": "https://localhost:8080/",
          "height": 34
        },
        "outputId": "0a965db5-32a3-43be-8a62-306add1ddbc4"
      },
      "source": [
        "import pandas as pd\n",
        "from sklearn.model_selection import train_test_split\n",
        "\n",
        "train = pd.merge(pd.read_csv(DATA_PATH+'waterpumps/train_features.csv'), \n",
        "                 pd.read_csv(DATA_PATH+'waterpumps/train_labels.csv'))\n",
        "test = pd.read_csv(DATA_PATH+'waterpumps/test_features.csv')\n",
        "sample_submission = pd.read_csv(DATA_PATH+'waterpumps/sample_submission.csv')\n",
        "\n",
        "train.shape, test.shape"
      ],
      "execution_count": 2,
      "outputs": [
        {
          "output_type": "execute_result",
          "data": {
            "text/plain": [
              "((59400, 41), (14358, 40))"
            ]
          },
          "metadata": {
            "tags": []
          },
          "execution_count": 2
        }
      ]
    },
    {
      "cell_type": "markdown",
      "metadata": {
        "id": "TzIHy58RA-LB",
        "colab_type": "text"
      },
      "source": [
        "## Test train split"
      ]
    },
    {
      "cell_type": "code",
      "metadata": {
        "id": "dLWC40Ag0Lt1",
        "colab_type": "code",
        "colab": {
          "base_uri": "https://localhost:8080/",
          "height": 34
        },
        "outputId": "1c99b419-339c-4855-aa8d-11f2cf35edfc"
      },
      "source": [
        "train, val = train_test_split(train, train_size=0.80, test_size=0.20, \n",
        "                              stratify=train['status_group'], random_state=42)\n",
        "\n",
        "train.shape, val.shape, test.shape"
      ],
      "execution_count": 3,
      "outputs": [
        {
          "output_type": "execute_result",
          "data": {
            "text/plain": [
              "((47520, 41), (11880, 41), (14358, 40))"
            ]
          },
          "metadata": {
            "tags": []
          },
          "execution_count": 3
        }
      ]
    },
    {
      "cell_type": "code",
      "metadata": {
        "id": "AFgJkfG0A3jZ",
        "colab_type": "code",
        "colab": {
          "base_uri": "https://localhost:8080/",
          "height": 54
        },
        "outputId": "304c5a89-1019-40b5-b974-814091233c19"
      },
      "source": [
        "# The status_group column is the target\n",
        "target = 'status_group'\n",
        "\n",
        "# Get a dataframe with all train columns except the target & id\n",
        "train_features = train.drop(columns=[target, 'id'])\n",
        "\n",
        "# Get a list of the numeric features\n",
        "numeric_features = train_features.select_dtypes(include='number').columns.tolist()\n",
        "\n",
        "# Get a series with the cardinality of the nonnumeric features\n",
        "cardinality = train_features.select_dtypes(exclude='number').nunique()\n",
        "\n",
        "# Get a list of all categorical features with cardinality <= 50\n",
        "categorical_features = cardinality[cardinality <= 50].index.tolist()\n",
        "\n",
        "# Combine the lists \n",
        "features = numeric_features + categorical_features\n",
        "print(features)"
      ],
      "execution_count": 4,
      "outputs": [
        {
          "output_type": "stream",
          "text": [
            "['amount_tsh', 'gps_height', 'longitude', 'latitude', 'num_private', 'region_code', 'district_code', 'population', 'construction_year', 'basin', 'region', 'public_meeting', 'recorded_by', 'scheme_management', 'permit', 'extraction_type', 'extraction_type_group', 'extraction_type_class', 'management', 'management_group', 'payment', 'payment_type', 'water_quality', 'quality_group', 'quantity', 'quantity_group', 'source', 'source_type', 'source_class', 'waterpoint_type', 'waterpoint_type_group']\n"
          ],
          "name": "stdout"
        }
      ]
    },
    {
      "cell_type": "code",
      "metadata": {
        "id": "fxfLzAyQwaaK",
        "colab_type": "code",
        "colab": {
          "base_uri": "https://localhost:8080/",
          "height": 555
        },
        "outputId": "9d0e1173-48ca-4d09-9efc-5a738c2ce9c9"
      },
      "source": [
        "features"
      ],
      "execution_count": 5,
      "outputs": [
        {
          "output_type": "execute_result",
          "data": {
            "text/plain": [
              "['amount_tsh',\n",
              " 'gps_height',\n",
              " 'longitude',\n",
              " 'latitude',\n",
              " 'num_private',\n",
              " 'region_code',\n",
              " 'district_code',\n",
              " 'population',\n",
              " 'construction_year',\n",
              " 'basin',\n",
              " 'region',\n",
              " 'public_meeting',\n",
              " 'recorded_by',\n",
              " 'scheme_management',\n",
              " 'permit',\n",
              " 'extraction_type',\n",
              " 'extraction_type_group',\n",
              " 'extraction_type_class',\n",
              " 'management',\n",
              " 'management_group',\n",
              " 'payment',\n",
              " 'payment_type',\n",
              " 'water_quality',\n",
              " 'quality_group',\n",
              " 'quantity',\n",
              " 'quantity_group',\n",
              " 'source',\n",
              " 'source_type',\n",
              " 'source_class',\n",
              " 'waterpoint_type',\n",
              " 'waterpoint_type_group']"
            ]
          },
          "metadata": {
            "tags": []
          },
          "execution_count": 5
        }
      ]
    },
    {
      "cell_type": "code",
      "metadata": {
        "id": "AWiGXjtfl4lC",
        "colab_type": "code",
        "colab": {
          "base_uri": "https://localhost:8080/",
          "height": 400
        },
        "outputId": "2f343ed9-dc1d-4ae9-936c-3ff4487e0fba"
      },
      "source": [
        "train[categorical_features].head()"
      ],
      "execution_count": 6,
      "outputs": [
        {
          "output_type": "execute_result",
          "data": {
            "text/html": [
              "<div>\n",
              "<style scoped>\n",
              "    .dataframe tbody tr th:only-of-type {\n",
              "        vertical-align: middle;\n",
              "    }\n",
              "\n",
              "    .dataframe tbody tr th {\n",
              "        vertical-align: top;\n",
              "    }\n",
              "\n",
              "    .dataframe thead th {\n",
              "        text-align: right;\n",
              "    }\n",
              "</style>\n",
              "<table border=\"1\" class=\"dataframe\">\n",
              "  <thead>\n",
              "    <tr style=\"text-align: right;\">\n",
              "      <th></th>\n",
              "      <th>basin</th>\n",
              "      <th>region</th>\n",
              "      <th>public_meeting</th>\n",
              "      <th>recorded_by</th>\n",
              "      <th>scheme_management</th>\n",
              "      <th>permit</th>\n",
              "      <th>extraction_type</th>\n",
              "      <th>extraction_type_group</th>\n",
              "      <th>extraction_type_class</th>\n",
              "      <th>management</th>\n",
              "      <th>management_group</th>\n",
              "      <th>payment</th>\n",
              "      <th>payment_type</th>\n",
              "      <th>water_quality</th>\n",
              "      <th>quality_group</th>\n",
              "      <th>quantity</th>\n",
              "      <th>quantity_group</th>\n",
              "      <th>source</th>\n",
              "      <th>source_type</th>\n",
              "      <th>source_class</th>\n",
              "      <th>waterpoint_type</th>\n",
              "      <th>waterpoint_type_group</th>\n",
              "    </tr>\n",
              "  </thead>\n",
              "  <tbody>\n",
              "    <tr>\n",
              "      <th>43360</th>\n",
              "      <td>Lake Nyasa</td>\n",
              "      <td>Mbeya</td>\n",
              "      <td>True</td>\n",
              "      <td>GeoData Consultants Ltd</td>\n",
              "      <td>VWC</td>\n",
              "      <td>NaN</td>\n",
              "      <td>gravity</td>\n",
              "      <td>gravity</td>\n",
              "      <td>gravity</td>\n",
              "      <td>vwc</td>\n",
              "      <td>user-group</td>\n",
              "      <td>never pay</td>\n",
              "      <td>never pay</td>\n",
              "      <td>soft</td>\n",
              "      <td>good</td>\n",
              "      <td>insufficient</td>\n",
              "      <td>insufficient</td>\n",
              "      <td>spring</td>\n",
              "      <td>spring</td>\n",
              "      <td>groundwater</td>\n",
              "      <td>communal standpipe</td>\n",
              "      <td>communal standpipe</td>\n",
              "    </tr>\n",
              "    <tr>\n",
              "      <th>7263</th>\n",
              "      <td>Rufiji</td>\n",
              "      <td>Iringa</td>\n",
              "      <td>True</td>\n",
              "      <td>GeoData Consultants Ltd</td>\n",
              "      <td>WUA</td>\n",
              "      <td>True</td>\n",
              "      <td>gravity</td>\n",
              "      <td>gravity</td>\n",
              "      <td>gravity</td>\n",
              "      <td>wua</td>\n",
              "      <td>user-group</td>\n",
              "      <td>pay monthly</td>\n",
              "      <td>monthly</td>\n",
              "      <td>soft</td>\n",
              "      <td>good</td>\n",
              "      <td>enough</td>\n",
              "      <td>enough</td>\n",
              "      <td>spring</td>\n",
              "      <td>spring</td>\n",
              "      <td>groundwater</td>\n",
              "      <td>communal standpipe</td>\n",
              "      <td>communal standpipe</td>\n",
              "    </tr>\n",
              "    <tr>\n",
              "      <th>2486</th>\n",
              "      <td>Wami / Ruvu</td>\n",
              "      <td>Pwani</td>\n",
              "      <td>True</td>\n",
              "      <td>GeoData Consultants Ltd</td>\n",
              "      <td>VWC</td>\n",
              "      <td>False</td>\n",
              "      <td>india mark ii</td>\n",
              "      <td>india mark ii</td>\n",
              "      <td>handpump</td>\n",
              "      <td>vwc</td>\n",
              "      <td>user-group</td>\n",
              "      <td>pay per bucket</td>\n",
              "      <td>per bucket</td>\n",
              "      <td>salty</td>\n",
              "      <td>salty</td>\n",
              "      <td>insufficient</td>\n",
              "      <td>insufficient</td>\n",
              "      <td>shallow well</td>\n",
              "      <td>shallow well</td>\n",
              "      <td>groundwater</td>\n",
              "      <td>hand pump</td>\n",
              "      <td>hand pump</td>\n",
              "    </tr>\n",
              "    <tr>\n",
              "      <th>313</th>\n",
              "      <td>Lake Victoria</td>\n",
              "      <td>Kagera</td>\n",
              "      <td>True</td>\n",
              "      <td>GeoData Consultants Ltd</td>\n",
              "      <td>NaN</td>\n",
              "      <td>True</td>\n",
              "      <td>other</td>\n",
              "      <td>other</td>\n",
              "      <td>other</td>\n",
              "      <td>vwc</td>\n",
              "      <td>user-group</td>\n",
              "      <td>never pay</td>\n",
              "      <td>never pay</td>\n",
              "      <td>soft</td>\n",
              "      <td>good</td>\n",
              "      <td>enough</td>\n",
              "      <td>enough</td>\n",
              "      <td>shallow well</td>\n",
              "      <td>shallow well</td>\n",
              "      <td>groundwater</td>\n",
              "      <td>other</td>\n",
              "      <td>other</td>\n",
              "    </tr>\n",
              "    <tr>\n",
              "      <th>52726</th>\n",
              "      <td>Internal</td>\n",
              "      <td>Dodoma</td>\n",
              "      <td>True</td>\n",
              "      <td>GeoData Consultants Ltd</td>\n",
              "      <td>VWC</td>\n",
              "      <td>True</td>\n",
              "      <td>mono</td>\n",
              "      <td>mono</td>\n",
              "      <td>motorpump</td>\n",
              "      <td>vwc</td>\n",
              "      <td>user-group</td>\n",
              "      <td>pay per bucket</td>\n",
              "      <td>per bucket</td>\n",
              "      <td>soft</td>\n",
              "      <td>good</td>\n",
              "      <td>enough</td>\n",
              "      <td>enough</td>\n",
              "      <td>machine dbh</td>\n",
              "      <td>borehole</td>\n",
              "      <td>groundwater</td>\n",
              "      <td>communal standpipe</td>\n",
              "      <td>communal standpipe</td>\n",
              "    </tr>\n",
              "  </tbody>\n",
              "</table>\n",
              "</div>"
            ],
            "text/plain": [
              "               basin  region  ...     waterpoint_type waterpoint_type_group\n",
              "43360     Lake Nyasa   Mbeya  ...  communal standpipe    communal standpipe\n",
              "7263          Rufiji  Iringa  ...  communal standpipe    communal standpipe\n",
              "2486     Wami / Ruvu   Pwani  ...           hand pump             hand pump\n",
              "313    Lake Victoria  Kagera  ...               other                 other\n",
              "52726       Internal  Dodoma  ...  communal standpipe    communal standpipe\n",
              "\n",
              "[5 rows x 22 columns]"
            ]
          },
          "metadata": {
            "tags": []
          },
          "execution_count": 6
        }
      ]
    },
    {
      "cell_type": "code",
      "metadata": {
        "id": "gF-gZs1pA5p9",
        "colab_type": "code",
        "colab": {
          "base_uri": "https://localhost:8080/",
          "height": 34
        },
        "outputId": "c27083f2-e52f-434c-f774-550a4f2108d8"
      },
      "source": [
        "# Arrange data into X features matrix and y target vector \n",
        "X_train = train[categorical_features]\n",
        "y_train = train[target]\n",
        "X_val = val[categorical_features]\n",
        "y_val = val[target]\n",
        "X_test = test[categorical_features]\n",
        "X_train.shape , y_train.shape,X_val.shape, y_val.shape, X_test.shape"
      ],
      "execution_count": 7,
      "outputs": [
        {
          "output_type": "execute_result",
          "data": {
            "text/plain": [
              "((47520, 22), (47520,), (11880, 22), (11880,), (14358, 22))"
            ]
          },
          "metadata": {
            "tags": []
          },
          "execution_count": 7
        }
      ]
    },
    {
      "cell_type": "markdown",
      "metadata": {
        "id": "-TxqNf2AvOQ2",
        "colab_type": "text"
      },
      "source": [
        "##Begin with baseline"
      ]
    },
    {
      "cell_type": "code",
      "metadata": {
        "id": "o2wysXmUvQfK",
        "colab_type": "code",
        "colab": {
          "base_uri": "https://localhost:8080/",
          "height": 86
        },
        "outputId": "1448e8c3-ac51-4d07-8869-65c6aac5f25e"
      },
      "source": [
        "train['status_group'].value_counts(normalize=True)"
      ],
      "execution_count": 8,
      "outputs": [
        {
          "output_type": "execute_result",
          "data": {
            "text/plain": [
              "functional                 0.543077\n",
              "non functional             0.384238\n",
              "functional needs repair    0.072685\n",
              "Name: status_group, dtype: float64"
            ]
          },
          "metadata": {
            "tags": []
          },
          "execution_count": 8
        }
      ]
    },
    {
      "cell_type": "markdown",
      "metadata": {
        "id": "7oPVaodyDNIa",
        "colab_type": "text"
      },
      "source": [
        "## Make pipeline"
      ]
    },
    {
      "cell_type": "code",
      "metadata": {
        "id": "-PMA_klaDgD5",
        "colab_type": "code",
        "colab": {
          "base_uri": "https://localhost:8080/",
          "height": 607
        },
        "outputId": "141a2528-b568-4c28-9cc5-e62b788ee886"
      },
      "source": [
        "from sklearn.linear_model import LogisticRegression\n",
        "from sklearn.pipeline import make_pipeline\n",
        "import category_encoders as ce\n",
        "\n",
        "\n",
        "\n",
        "pipeline= make_pipeline(\n",
        "    ce.OneHotEncoder(),\n",
        "    LogisticRegression()\n",
        ")\n",
        "\n",
        "pipeline.fit(X_train, y_train)"
      ],
      "execution_count": 9,
      "outputs": [
        {
          "output_type": "stream",
          "text": [
            "/usr/local/lib/python3.6/dist-packages/statsmodels/tools/_testing.py:19: FutureWarning: pandas.util.testing is deprecated. Use the functions in the public API at pandas.testing instead.\n",
            "  import pandas.util.testing as tm\n",
            "/usr/local/lib/python3.6/dist-packages/sklearn/linear_model/_logistic.py:940: ConvergenceWarning: lbfgs failed to converge (status=1):\n",
            "STOP: TOTAL NO. of ITERATIONS REACHED LIMIT.\n",
            "\n",
            "Increase the number of iterations (max_iter) or scale the data as shown in:\n",
            "    https://scikit-learn.org/stable/modules/preprocessing.html\n",
            "Please also refer to the documentation for alternative solver options:\n",
            "    https://scikit-learn.org/stable/modules/linear_model.html#logistic-regression\n",
            "  extra_warning_msg=_LOGISTIC_SOLVER_CONVERGENCE_MSG)\n"
          ],
          "name": "stderr"
        },
        {
          "output_type": "execute_result",
          "data": {
            "text/plain": [
              "Pipeline(memory=None,\n",
              "         steps=[('onehotencoder',\n",
              "                 OneHotEncoder(cols=['basin', 'region', 'public_meeting',\n",
              "                                     'recorded_by', 'scheme_management',\n",
              "                                     'permit', 'extraction_type',\n",
              "                                     'extraction_type_group',\n",
              "                                     'extraction_type_class', 'management',\n",
              "                                     'management_group', 'payment',\n",
              "                                     'payment_type', 'water_quality',\n",
              "                                     'quality_group', 'quantity',\n",
              "                                     'quantity_group', 'source', 'source_type',\n",
              "                                     's...\n",
              "                               drop_invariant=False, handle_missing='value',\n",
              "                               handle_unknown='value', return_df=True,\n",
              "                               use_cat_names=False, verbose=0)),\n",
              "                ('logisticregression',\n",
              "                 LogisticRegression(C=1.0, class_weight=None, dual=False,\n",
              "                                    fit_intercept=True, intercept_scaling=1,\n",
              "                                    l1_ratio=None, max_iter=100,\n",
              "                                    multi_class='auto', n_jobs=None,\n",
              "                                    penalty='l2', random_state=None,\n",
              "                                    solver='lbfgs', tol=0.0001, verbose=0,\n",
              "                                    warm_start=False))],\n",
              "         verbose=False)"
            ]
          },
          "metadata": {
            "tags": []
          },
          "execution_count": 9
        }
      ]
    },
    {
      "cell_type": "code",
      "metadata": {
        "id": "ehXZJOMxDt1o",
        "colab_type": "code",
        "colab": {
          "base_uri": "https://localhost:8080/",
          "height": 34
        },
        "outputId": "8034f476-e6d2-4f4a-b4b2-2ad6ca2a820e"
      },
      "source": [
        "train_acc = pipeline.score(X_train, y_train)\n",
        "\n",
        "val_acc = pipeline.score(X_val, y_val)\n",
        "\n",
        "#test_acc = pipeline.score(X_test, y_test)\n",
        "\n",
        "print(\"Train acc: \",train_acc, \"Val acc: \", val_acc)"
      ],
      "execution_count": 10,
      "outputs": [
        {
          "output_type": "stream",
          "text": [
            "Train acc:  0.7322811447811448 Val acc:  0.7321548821548821\n"
          ],
          "name": "stdout"
        }
      ]
    },
    {
      "cell_type": "code",
      "metadata": {
        "id": "IrTT-F_YEahD",
        "colab_type": "code",
        "colab": {
          "base_uri": "https://localhost:8080/",
          "height": 434
        },
        "outputId": "69be4f88-0916-4ad3-cb28-a392a59b6d84"
      },
      "source": [
        "from sklearn.tree import DecisionTreeClassifier\n",
        "\n",
        "dtc_model= make_pipeline(\n",
        "    ce.OneHotEncoder(),\n",
        "    DecisionTreeClassifier()\n",
        ")\n",
        "\n",
        "#dtc_model = DecisionTreeClassifier(max_depth=1)\n",
        "dtc_model.fit(X_train, y_train)"
      ],
      "execution_count": 24,
      "outputs": [
        {
          "output_type": "execute_result",
          "data": {
            "text/plain": [
              "Pipeline(memory=None,\n",
              "         steps=[('onehotencoder',\n",
              "                 OneHotEncoder(cols=['basin', 'region', 'public_meeting',\n",
              "                                     'recorded_by', 'scheme_management',\n",
              "                                     'permit', 'extraction_type',\n",
              "                                     'extraction_type_group',\n",
              "                                     'extraction_type_class', 'management',\n",
              "                                     'management_group', 'payment',\n",
              "                                     'payment_type', 'water_quality',\n",
              "                                     'quality_group', 'quantity',\n",
              "                                     'quantity_group', 'source', 'source_type',\n",
              "                                     's...\n",
              "                               use_cat_names=False, verbose=0)),\n",
              "                ('decisiontreeclassifier',\n",
              "                 DecisionTreeClassifier(ccp_alpha=0.0, class_weight=None,\n",
              "                                        criterion='gini', max_depth=None,\n",
              "                                        max_features=None, max_leaf_nodes=None,\n",
              "                                        min_impurity_decrease=0.0,\n",
              "                                        min_impurity_split=None,\n",
              "                                        min_samples_leaf=1, min_samples_split=2,\n",
              "                                        min_weight_fraction_leaf=0.0,\n",
              "                                        presort='deprecated', random_state=None,\n",
              "                                        splitter='best'))],\n",
              "         verbose=False)"
            ]
          },
          "metadata": {
            "tags": []
          },
          "execution_count": 24
        }
      ]
    },
    {
      "cell_type": "code",
      "metadata": {
        "id": "tUKcELCTapE9",
        "colab_type": "code",
        "colab": {
          "base_uri": "https://localhost:8080/",
          "height": 121
        },
        "outputId": "27ce64cd-2b7d-4bda-9972-167601c18084"
      },
      "source": [
        "y_train.head()"
      ],
      "execution_count": 25,
      "outputs": [
        {
          "output_type": "execute_result",
          "data": {
            "text/plain": [
              "43360        functional\n",
              "7263         functional\n",
              "2486         functional\n",
              "313      non functional\n",
              "52726        functional\n",
              "Name: status_group, dtype: object"
            ]
          },
          "metadata": {
            "tags": []
          },
          "execution_count": 25
        }
      ]
    },
    {
      "cell_type": "code",
      "metadata": {
        "id": "LNtWwCdhFLAl",
        "colab_type": "code",
        "colab": {}
      },
      "source": [
        "dtc_train_acc = dtc_model.score(X_train, y_train)\n",
        "\n",
        "dtc_val_acc = dtc_model.score(X_val, y_val)"
      ],
      "execution_count": 26,
      "outputs": []
    },
    {
      "cell_type": "markdown",
      "metadata": {
        "id": "BUNIMAdPHG0Q",
        "colab_type": "text"
      },
      "source": [
        "# Val accuracy "
      ]
    },
    {
      "cell_type": "code",
      "metadata": {
        "id": "IMNPNnAHFmlZ",
        "colab_type": "code",
        "colab": {
          "base_uri": "https://localhost:8080/",
          "height": 34
        },
        "outputId": "d49e01a8-5bd7-4de3-fc94-ca768e39f861"
      },
      "source": [
        "print(\"Train Acc: \",dtc_train_acc, \"Val Acc\" ,dtc_val_acc)"
      ],
      "execution_count": 27,
      "outputs": [
        {
          "output_type": "stream",
          "text": [
            "Train Acc:  0.8367003367003367 Val Acc 0.7702020202020202\n"
          ],
          "name": "stdout"
        }
      ]
    },
    {
      "cell_type": "code",
      "metadata": {
        "id": "LNqbOon0Gtg7",
        "colab_type": "code",
        "colab": {
          "base_uri": "https://localhost:8080/",
          "height": 655
        },
        "outputId": "9a16d648-6d86-494c-bd58-b85251547532"
      },
      "source": [
        "import graphviz\n",
        "from sklearn.tree import export_graphviz\n",
        "\n",
        "model = dtc_model.named_steps['decisiontreeclassifier']\n",
        "encoder = dtc_model.named_steps['onehotencoder']\n",
        "encoded_columns = encoder.transform(X_val).columns\n",
        "\n",
        "dot_data = export_graphviz(model, \n",
        "                           out_file=None, \n",
        "                           max_depth=3, \n",
        "                           feature_names=encoded_columns,\n",
        "                           class_names=model.classes_, \n",
        "                           impurity=False, \n",
        "                           filled=True, \n",
        "                           proportion=True, \n",
        "                           rounded=True)   \n",
        "display(graphviz.Source(dot_data))"
      ],
      "execution_count": 28,
      "outputs": [
        {
          "output_type": "display_data",
          "data": {
            "text/plain": [
              "<graphviz.files.Source at 0x7f9c9ab2ea90>"
            ],
            "image/svg+xml": "<?xml version=\"1.0\" encoding=\"UTF-8\" standalone=\"no\"?>\n<!DOCTYPE svg PUBLIC \"-//W3C//DTD SVG 1.1//EN\"\n \"http://www.w3.org/Graphics/SVG/1.1/DTD/svg11.dtd\">\n<!-- Generated by graphviz version 2.40.1 (20161225.0304)\n -->\n<!-- Title: Tree Pages: 1 -->\n<svg width=\"1756pt\" height=\"460pt\"\n viewBox=\"0.00 0.00 1756.00 460.00\" xmlns=\"http://www.w3.org/2000/svg\" xmlns:xlink=\"http://www.w3.org/1999/xlink\">\n<g id=\"graph0\" class=\"graph\" transform=\"scale(1 1) rotate(0) translate(4 456)\">\n<title>Tree</title>\n<polygon fill=\"#ffffff\" stroke=\"transparent\" points=\"-4,4 -4,-456 1752,-456 1752,4 -4,4\"/>\n<!-- 0 -->\n<g id=\"node1\" class=\"node\">\n<title>0</title>\n<path fill=\"#f8decc\" stroke=\"#000000\" d=\"M897,-452C897,-452 721,-452 721,-452 715,-452 709,-446 709,-440 709,-440 709,-396 709,-396 709,-390 715,-384 721,-384 721,-384 897,-384 897,-384 903,-384 909,-390 909,-396 909,-396 909,-440 909,-440 909,-446 903,-452 897,-452\"/>\n<text text-anchor=\"middle\" x=\"809\" y=\"-436.8\" font-family=\"Helvetica,sans-Serif\" font-size=\"14.00\" fill=\"#000000\">quantity_3 &lt;= 0.5</text>\n<text text-anchor=\"middle\" x=\"809\" y=\"-421.8\" font-family=\"Helvetica,sans-Serif\" font-size=\"14.00\" fill=\"#000000\">samples = 100.0%</text>\n<text text-anchor=\"middle\" x=\"809\" y=\"-406.8\" font-family=\"Helvetica,sans-Serif\" font-size=\"14.00\" fill=\"#000000\">value = [0.543, 0.073, 0.384]</text>\n<text text-anchor=\"middle\" x=\"809\" y=\"-391.8\" font-family=\"Helvetica,sans-Serif\" font-size=\"14.00\" fill=\"#000000\">class = functional</text>\n</g>\n<!-- 1 -->\n<g id=\"node2\" class=\"node\">\n<title>1</title>\n<path fill=\"#f4caac\" stroke=\"#000000\" d=\"M774,-348C774,-348 606,-348 606,-348 600,-348 594,-342 594,-336 594,-336 594,-292 594,-292 594,-286 600,-280 606,-280 606,-280 774,-280 774,-280 780,-280 786,-286 786,-292 786,-292 786,-336 786,-336 786,-342 780,-348 774,-348\"/>\n<text text-anchor=\"middle\" x=\"690\" y=\"-332.8\" font-family=\"Helvetica,sans-Serif\" font-size=\"14.00\" fill=\"#000000\">waterpoint_type_3 &lt;= 0.5</text>\n<text text-anchor=\"middle\" x=\"690\" y=\"-317.8\" font-family=\"Helvetica,sans-Serif\" font-size=\"14.00\" fill=\"#000000\">samples = 89.6%</text>\n<text text-anchor=\"middle\" x=\"690\" y=\"-302.8\" font-family=\"Helvetica,sans-Serif\" font-size=\"14.00\" fill=\"#000000\">value = [0.603, 0.08, 0.317]</text>\n<text text-anchor=\"middle\" x=\"690\" y=\"-287.8\" font-family=\"Helvetica,sans-Serif\" font-size=\"14.00\" fill=\"#000000\">class = functional</text>\n</g>\n<!-- 0&#45;&gt;1 -->\n<g id=\"edge1\" class=\"edge\">\n<title>0&#45;&gt;1</title>\n<path fill=\"none\" stroke=\"#000000\" d=\"M770.0349,-383.9465C759.3505,-374.6088 747.6591,-364.3911 736.5934,-354.7203\"/>\n<polygon fill=\"#000000\" stroke=\"#000000\" points=\"738.8855,-352.0752 729.0526,-348.13 734.2791,-357.346 738.8855,-352.0752\"/>\n<text text-anchor=\"middle\" x=\"730.7304\" y=\"-369.3736\" font-family=\"Helvetica,sans-Serif\" font-size=\"14.00\" fill=\"#000000\">True</text>\n</g>\n<!-- 11532 -->\n<g id=\"node17\" class=\"node\">\n<title>11532</title>\n<path fill=\"#8540e6\" stroke=\"#000000\" d=\"M1107,-348C1107,-348 931,-348 931,-348 925,-348 919,-342 919,-336 919,-336 919,-292 919,-292 919,-286 925,-280 931,-280 931,-280 1107,-280 1107,-280 1113,-280 1119,-286 1119,-292 1119,-292 1119,-336 1119,-336 1119,-342 1113,-348 1107,-348\"/>\n<text text-anchor=\"middle\" x=\"1019\" y=\"-332.8\" font-family=\"Helvetica,sans-Serif\" font-size=\"14.00\" fill=\"#000000\">region_8 &lt;= 0.5</text>\n<text text-anchor=\"middle\" x=\"1019\" y=\"-317.8\" font-family=\"Helvetica,sans-Serif\" font-size=\"14.00\" fill=\"#000000\">samples = 10.4%</text>\n<text text-anchor=\"middle\" x=\"1019\" y=\"-302.8\" font-family=\"Helvetica,sans-Serif\" font-size=\"14.00\" fill=\"#000000\">value = [0.026, 0.006, 0.968]</text>\n<text text-anchor=\"middle\" x=\"1019\" y=\"-287.8\" font-family=\"Helvetica,sans-Serif\" font-size=\"14.00\" fill=\"#000000\">class = non functional</text>\n</g>\n<!-- 0&#45;&gt;11532 -->\n<g id=\"edge16\" class=\"edge\">\n<title>0&#45;&gt;11532</title>\n<path fill=\"none\" stroke=\"#000000\" d=\"M877.7619,-383.9465C897.9765,-373.9354 920.2336,-362.9129 940.9828,-352.6371\"/>\n<polygon fill=\"#000000\" stroke=\"#000000\" points=\"942.6757,-355.7045 950.0837,-348.13 939.5691,-349.4316 942.6757,-355.7045\"/>\n<text text-anchor=\"middle\" x=\"942.0875\" y=\"-368.1167\" font-family=\"Helvetica,sans-Serif\" font-size=\"14.00\" fill=\"#000000\">False</text>\n</g>\n<!-- 2 -->\n<g id=\"node3\" class=\"node\">\n<title>2</title>\n<path fill=\"#f1bd98\" stroke=\"#000000\" d=\"M402,-244C402,-244 226,-244 226,-244 220,-244 214,-238 214,-232 214,-232 214,-188 214,-188 214,-182 220,-176 226,-176 226,-176 402,-176 402,-176 408,-176 414,-182 414,-188 414,-188 414,-232 414,-232 414,-238 408,-244 402,-244\"/>\n<text text-anchor=\"middle\" x=\"314\" y=\"-228.8\" font-family=\"Helvetica,sans-Serif\" font-size=\"14.00\" fill=\"#000000\">waterpoint_type_4 &lt;= 0.5</text>\n<text text-anchor=\"middle\" x=\"314\" y=\"-213.8\" font-family=\"Helvetica,sans-Serif\" font-size=\"14.00\" fill=\"#000000\">samples = 81.1%</text>\n<text text-anchor=\"middle\" x=\"314\" y=\"-198.8\" font-family=\"Helvetica,sans-Serif\" font-size=\"14.00\" fill=\"#000000\">value = [0.649, 0.083, 0.268]</text>\n<text text-anchor=\"middle\" x=\"314\" y=\"-183.8\" font-family=\"Helvetica,sans-Serif\" font-size=\"14.00\" fill=\"#000000\">class = functional</text>\n</g>\n<!-- 1&#45;&gt;2 -->\n<g id=\"edge2\" class=\"edge\">\n<title>1&#45;&gt;2</title>\n<path fill=\"none\" stroke=\"#000000\" d=\"M593.6589,-287.3525C541.8355,-273.0183 477.7093,-255.2813 423.9411,-240.4092\"/>\n<polygon fill=\"#000000\" stroke=\"#000000\" points=\"424.5984,-236.9597 414.0272,-237.6671 422.7323,-243.7064 424.5984,-236.9597\"/>\n</g>\n<!-- 10375 -->\n<g id=\"node10\" class=\"node\">\n<title>10375</title>\n<path fill=\"#a26dec\" stroke=\"#000000\" d=\"M789,-244C789,-244 591,-244 591,-244 585,-244 579,-238 579,-232 579,-232 579,-188 579,-188 579,-182 585,-176 591,-176 591,-176 789,-176 789,-176 795,-176 801,-182 801,-188 801,-188 801,-232 801,-232 801,-238 795,-244 789,-244\"/>\n<text text-anchor=\"middle\" x=\"690\" y=\"-228.8\" font-family=\"Helvetica,sans-Serif\" font-size=\"14.00\" fill=\"#000000\">extraction_type_group_3 &lt;= 0.5</text>\n<text text-anchor=\"middle\" x=\"690\" y=\"-213.8\" font-family=\"Helvetica,sans-Serif\" font-size=\"14.00\" fill=\"#000000\">samples = 8.5%</text>\n<text text-anchor=\"middle\" x=\"690\" y=\"-198.8\" font-family=\"Helvetica,sans-Serif\" font-size=\"14.00\" fill=\"#000000\">value = [0.162, 0.057, 0.781]</text>\n<text text-anchor=\"middle\" x=\"690\" y=\"-183.8\" font-family=\"Helvetica,sans-Serif\" font-size=\"14.00\" fill=\"#000000\">class = non functional</text>\n</g>\n<!-- 1&#45;&gt;10375 -->\n<g id=\"edge9\" class=\"edge\">\n<title>1&#45;&gt;10375</title>\n<path fill=\"none\" stroke=\"#000000\" d=\"M690,-279.9465C690,-271.776 690,-262.9318 690,-254.3697\"/>\n<polygon fill=\"#000000\" stroke=\"#000000\" points=\"693.5001,-254.13 690,-244.13 686.5001,-254.13 693.5001,-254.13\"/>\n</g>\n<!-- 3 -->\n<g id=\"node4\" class=\"node\">\n<title>3</title>\n<path fill=\"#f0b78e\" stroke=\"#000000\" d=\"M188,-140C188,-140 12,-140 12,-140 6,-140 0,-134 0,-128 0,-128 0,-84 0,-84 0,-78 6,-72 12,-72 12,-72 188,-72 188,-72 194,-72 200,-78 200,-84 200,-84 200,-128 200,-128 200,-134 194,-140 188,-140\"/>\n<text text-anchor=\"middle\" x=\"100\" y=\"-124.8\" font-family=\"Helvetica,sans-Serif\" font-size=\"14.00\" fill=\"#000000\">payment_type_1 &lt;= 0.5</text>\n<text text-anchor=\"middle\" x=\"100\" y=\"-109.8\" font-family=\"Helvetica,sans-Serif\" font-size=\"14.00\" fill=\"#000000\">samples = 72.3%</text>\n<text text-anchor=\"middle\" x=\"100\" y=\"-94.8\" font-family=\"Helvetica,sans-Serif\" font-size=\"14.00\" fill=\"#000000\">value = [0.677, 0.077, 0.246]</text>\n<text text-anchor=\"middle\" x=\"100\" y=\"-79.8\" font-family=\"Helvetica,sans-Serif\" font-size=\"14.00\" fill=\"#000000\">class = functional</text>\n</g>\n<!-- 2&#45;&gt;3 -->\n<g id=\"edge3\" class=\"edge\">\n<title>2&#45;&gt;3</title>\n<path fill=\"none\" stroke=\"#000000\" d=\"M243.9284,-175.9465C223.3287,-165.9354 200.6476,-154.9129 179.5033,-144.6371\"/>\n<polygon fill=\"#000000\" stroke=\"#000000\" points=\"180.753,-141.3531 170.229,-140.13 177.6933,-147.649 180.753,-141.3531\"/>\n</g>\n<!-- 9050 -->\n<g id=\"node7\" class=\"node\">\n<title>9050</title>\n<path fill=\"#f9f6fe\" stroke=\"#000000\" d=\"M398,-140C398,-140 230,-140 230,-140 224,-140 218,-134 218,-128 218,-128 218,-84 218,-84 218,-78 224,-72 230,-72 230,-72 398,-72 398,-72 404,-72 410,-78 410,-84 410,-84 410,-128 410,-128 410,-134 404,-140 398,-140\"/>\n<text text-anchor=\"middle\" x=\"314\" y=\"-124.8\" font-family=\"Helvetica,sans-Serif\" font-size=\"14.00\" fill=\"#000000\">region_14 &lt;= 0.5</text>\n<text text-anchor=\"middle\" x=\"314\" y=\"-109.8\" font-family=\"Helvetica,sans-Serif\" font-size=\"14.00\" fill=\"#000000\">samples = 8.8%</text>\n<text text-anchor=\"middle\" x=\"314\" y=\"-94.8\" font-family=\"Helvetica,sans-Serif\" font-size=\"14.00\" fill=\"#000000\">value = [0.424, 0.126, 0.45]</text>\n<text text-anchor=\"middle\" x=\"314\" y=\"-79.8\" font-family=\"Helvetica,sans-Serif\" font-size=\"14.00\" fill=\"#000000\">class = non functional</text>\n</g>\n<!-- 2&#45;&gt;9050 -->\n<g id=\"edge6\" class=\"edge\">\n<title>2&#45;&gt;9050</title>\n<path fill=\"none\" stroke=\"#000000\" d=\"M314,-175.9465C314,-167.776 314,-158.9318 314,-150.3697\"/>\n<polygon fill=\"#000000\" stroke=\"#000000\" points=\"317.5001,-150.13 314,-140.13 310.5001,-150.13 317.5001,-150.13\"/>\n</g>\n<!-- 4 -->\n<g id=\"node5\" class=\"node\">\n<title>4</title>\n<path fill=\"#c0c0c0\" stroke=\"#000000\" d=\"M79,-36C79,-36 49,-36 49,-36 43,-36 37,-30 37,-24 37,-24 37,-12 37,-12 37,-6 43,0 49,0 49,0 79,0 79,0 85,0 91,-6 91,-12 91,-12 91,-24 91,-24 91,-30 85,-36 79,-36\"/>\n<text text-anchor=\"middle\" x=\"64\" y=\"-14.3\" font-family=\"Helvetica,sans-Serif\" font-size=\"14.00\" fill=\"#000000\">(...)</text>\n</g>\n<!-- 3&#45;&gt;4 -->\n<g id=\"edge4\" class=\"edge\">\n<title>3&#45;&gt;4</title>\n<path fill=\"none\" stroke=\"#000000\" d=\"M86.0815,-71.9769C82.4977,-63.2167 78.6862,-53.8995 75.2564,-45.5157\"/>\n<polygon fill=\"#000000\" stroke=\"#000000\" points=\"78.468,-44.1222 71.4422,-36.192 71.9891,-46.7727 78.468,-44.1222\"/>\n</g>\n<!-- 5123 -->\n<g id=\"node6\" class=\"node\">\n<title>5123</title>\n<path fill=\"#c0c0c0\" stroke=\"#000000\" d=\"M151,-36C151,-36 121,-36 121,-36 115,-36 109,-30 109,-24 109,-24 109,-12 109,-12 109,-6 115,0 121,0 121,0 151,0 151,0 157,0 163,-6 163,-12 163,-12 163,-24 163,-24 163,-30 157,-36 151,-36\"/>\n<text text-anchor=\"middle\" x=\"136\" y=\"-14.3\" font-family=\"Helvetica,sans-Serif\" font-size=\"14.00\" fill=\"#000000\">(...)</text>\n</g>\n<!-- 3&#45;&gt;5123 -->\n<g id=\"edge5\" class=\"edge\">\n<title>3&#45;&gt;5123</title>\n<path fill=\"none\" stroke=\"#000000\" d=\"M113.9185,-71.9769C117.5023,-63.2167 121.3138,-53.8995 124.7436,-45.5157\"/>\n<polygon fill=\"#000000\" stroke=\"#000000\" points=\"128.0109,-46.7727 128.5578,-36.192 121.532,-44.1222 128.0109,-46.7727\"/>\n</g>\n<!-- 9051 -->\n<g id=\"node8\" class=\"node\">\n<title>9051</title>\n<path fill=\"#c0c0c0\" stroke=\"#000000\" d=\"M310,-36C310,-36 280,-36 280,-36 274,-36 268,-30 268,-24 268,-24 268,-12 268,-12 268,-6 274,0 280,0 280,0 310,0 310,0 316,0 322,-6 322,-12 322,-12 322,-24 322,-24 322,-30 316,-36 310,-36\"/>\n<text text-anchor=\"middle\" x=\"295\" y=\"-14.3\" font-family=\"Helvetica,sans-Serif\" font-size=\"14.00\" fill=\"#000000\">(...)</text>\n</g>\n<!-- 9050&#45;&gt;9051 -->\n<g id=\"edge7\" class=\"edge\">\n<title>9050&#45;&gt;9051</title>\n<path fill=\"none\" stroke=\"#000000\" d=\"M306.6541,-71.9769C304.8038,-63.4071 302.8384,-54.3043 301.0592,-46.0638\"/>\n<polygon fill=\"#000000\" stroke=\"#000000\" points=\"304.4595,-45.228 298.9278,-36.192 297.6172,-46.7054 304.4595,-45.228\"/>\n</g>\n<!-- 10218 -->\n<g id=\"node9\" class=\"node\">\n<title>10218</title>\n<path fill=\"#c0c0c0\" stroke=\"#000000\" d=\"M382,-36C382,-36 352,-36 352,-36 346,-36 340,-30 340,-24 340,-24 340,-12 340,-12 340,-6 346,0 352,0 352,0 382,0 382,0 388,0 394,-6 394,-12 394,-12 394,-24 394,-24 394,-30 388,-36 382,-36\"/>\n<text text-anchor=\"middle\" x=\"367\" y=\"-14.3\" font-family=\"Helvetica,sans-Serif\" font-size=\"14.00\" fill=\"#000000\">(...)</text>\n</g>\n<!-- 9050&#45;&gt;10218 -->\n<g id=\"edge8\" class=\"edge\">\n<title>9050&#45;&gt;10218</title>\n<path fill=\"none\" stroke=\"#000000\" d=\"M334.4912,-71.9769C339.8819,-63.0262 345.6228,-53.4941 350.7565,-44.9703\"/>\n<polygon fill=\"#000000\" stroke=\"#000000\" points=\"353.8824,-46.5641 356.0435,-36.192 347.886,-42.9525 353.8824,-46.5641\"/>\n</g>\n<!-- 10376 -->\n<g id=\"node11\" class=\"node\">\n<title>10376</title>\n<path fill=\"#c9aaf4\" stroke=\"#000000\" d=\"M616,-140C616,-140 440,-140 440,-140 434,-140 428,-134 428,-128 428,-128 428,-84 428,-84 428,-78 434,-72 440,-72 440,-72 616,-72 616,-72 622,-72 628,-78 628,-84 628,-84 628,-128 628,-128 628,-134 622,-140 616,-140\"/>\n<text text-anchor=\"middle\" x=\"528\" y=\"-124.8\" font-family=\"Helvetica,sans-Serif\" font-size=\"14.00\" fill=\"#000000\">basin_4 &lt;= 0.5</text>\n<text text-anchor=\"middle\" x=\"528\" y=\"-109.8\" font-family=\"Helvetica,sans-Serif\" font-size=\"14.00\" fill=\"#000000\">samples = 2.4%</text>\n<text text-anchor=\"middle\" x=\"528\" y=\"-94.8\" font-family=\"Helvetica,sans-Serif\" font-size=\"14.00\" fill=\"#000000\">value = [0.288, 0.119, 0.593]</text>\n<text text-anchor=\"middle\" x=\"528\" y=\"-79.8\" font-family=\"Helvetica,sans-Serif\" font-size=\"14.00\" fill=\"#000000\">class = non functional</text>\n</g>\n<!-- 10375&#45;&gt;10376 -->\n<g id=\"edge10\" class=\"edge\">\n<title>10375&#45;&gt;10376</title>\n<path fill=\"none\" stroke=\"#000000\" d=\"M636.9551,-175.9465C621.8505,-166.2497 605.2676,-155.6039 589.6954,-145.6069\"/>\n<polygon fill=\"#000000\" stroke=\"#000000\" points=\"591.47,-142.5871 581.164,-140.13 587.6884,-148.4777 591.47,-142.5871\"/>\n</g>\n<!-- 10815 -->\n<g id=\"node14\" class=\"node\">\n<title>10815</title>\n<path fill=\"#965ae9\" stroke=\"#000000\" d=\"M834,-140C834,-140 658,-140 658,-140 652,-140 646,-134 646,-128 646,-128 646,-84 646,-84 646,-78 652,-72 658,-72 658,-72 834,-72 834,-72 840,-72 846,-78 846,-84 846,-84 846,-128 846,-128 846,-134 840,-140 834,-140\"/>\n<text text-anchor=\"middle\" x=\"746\" y=\"-124.8\" font-family=\"Helvetica,sans-Serif\" font-size=\"14.00\" fill=\"#000000\">quality_group_4 &lt;= 0.5</text>\n<text text-anchor=\"middle\" x=\"746\" y=\"-109.8\" font-family=\"Helvetica,sans-Serif\" font-size=\"14.00\" fill=\"#000000\">samples = 6.1%</text>\n<text text-anchor=\"middle\" x=\"746\" y=\"-94.8\" font-family=\"Helvetica,sans-Serif\" font-size=\"14.00\" fill=\"#000000\">value = [0.113, 0.033, 0.854]</text>\n<text text-anchor=\"middle\" x=\"746\" y=\"-79.8\" font-family=\"Helvetica,sans-Serif\" font-size=\"14.00\" fill=\"#000000\">class = non functional</text>\n</g>\n<!-- 10375&#45;&gt;10815 -->\n<g id=\"edge13\" class=\"edge\">\n<title>10375&#45;&gt;10815</title>\n<path fill=\"none\" stroke=\"#000000\" d=\"M708.3365,-175.9465C712.9777,-167.3271 718.0227,-157.9579 722.8671,-148.9611\"/>\n<polygon fill=\"#000000\" stroke=\"#000000\" points=\"725.9629,-150.5941 727.6223,-140.13 719.7996,-147.2754 725.9629,-150.5941\"/>\n</g>\n<!-- 10377 -->\n<g id=\"node12\" class=\"node\">\n<title>10377</title>\n<path fill=\"#c0c0c0\" stroke=\"#000000\" d=\"M489,-36C489,-36 459,-36 459,-36 453,-36 447,-30 447,-24 447,-24 447,-12 447,-12 447,-6 453,0 459,0 459,0 489,0 489,0 495,0 501,-6 501,-12 501,-12 501,-24 501,-24 501,-30 495,-36 489,-36\"/>\n<text text-anchor=\"middle\" x=\"474\" y=\"-14.3\" font-family=\"Helvetica,sans-Serif\" font-size=\"14.00\" fill=\"#000000\">(...)</text>\n</g>\n<!-- 10376&#45;&gt;10377 -->\n<g id=\"edge11\" class=\"edge\">\n<title>10376&#45;&gt;10377</title>\n<path fill=\"none\" stroke=\"#000000\" d=\"M507.1222,-71.9769C501.6297,-63.0262 495.7805,-53.4941 490.5499,-44.9703\"/>\n<polygon fill=\"#000000\" stroke=\"#000000\" points=\"493.3766,-42.8846 485.1632,-36.192 487.4103,-46.5458 493.3766,-42.8846\"/>\n</g>\n<!-- 10746 -->\n<g id=\"node13\" class=\"node\">\n<title>10746</title>\n<path fill=\"#c0c0c0\" stroke=\"#000000\" d=\"M561,-36C561,-36 531,-36 531,-36 525,-36 519,-30 519,-24 519,-24 519,-12 519,-12 519,-6 525,0 531,0 531,0 561,0 561,0 567,0 573,-6 573,-12 573,-12 573,-24 573,-24 573,-30 567,-36 561,-36\"/>\n<text text-anchor=\"middle\" x=\"546\" y=\"-14.3\" font-family=\"Helvetica,sans-Serif\" font-size=\"14.00\" fill=\"#000000\">(...)</text>\n</g>\n<!-- 10376&#45;&gt;10746 -->\n<g id=\"edge12\" class=\"edge\">\n<title>10376&#45;&gt;10746</title>\n<path fill=\"none\" stroke=\"#000000\" d=\"M534.9593,-71.9769C536.7122,-63.4071 538.5741,-54.3043 540.2597,-46.0638\"/>\n<polygon fill=\"#000000\" stroke=\"#000000\" points=\"543.7039,-46.6905 542.2789,-36.192 536.8459,-45.2877 543.7039,-46.6905\"/>\n</g>\n<!-- 10816 -->\n<g id=\"node15\" class=\"node\">\n<title>10816</title>\n<path fill=\"#c0c0c0\" stroke=\"#000000\" d=\"M725,-36C725,-36 695,-36 695,-36 689,-36 683,-30 683,-24 683,-24 683,-12 683,-12 683,-6 689,0 695,0 695,0 725,0 725,0 731,0 737,-6 737,-12 737,-12 737,-24 737,-24 737,-30 731,-36 725,-36\"/>\n<text text-anchor=\"middle\" x=\"710\" y=\"-14.3\" font-family=\"Helvetica,sans-Serif\" font-size=\"14.00\" fill=\"#000000\">(...)</text>\n</g>\n<!-- 10815&#45;&gt;10816 -->\n<g id=\"edge14\" class=\"edge\">\n<title>10815&#45;&gt;10816</title>\n<path fill=\"none\" stroke=\"#000000\" d=\"M732.0815,-71.9769C728.4977,-63.2167 724.6862,-53.8995 721.2564,-45.5157\"/>\n<polygon fill=\"#000000\" stroke=\"#000000\" points=\"724.468,-44.1222 717.4422,-36.192 717.9891,-46.7727 724.468,-44.1222\"/>\n</g>\n<!-- 11467 -->\n<g id=\"node16\" class=\"node\">\n<title>11467</title>\n<path fill=\"#c0c0c0\" stroke=\"#000000\" d=\"M797,-36C797,-36 767,-36 767,-36 761,-36 755,-30 755,-24 755,-24 755,-12 755,-12 755,-6 761,0 767,0 767,0 797,0 797,0 803,0 809,-6 809,-12 809,-12 809,-24 809,-24 809,-30 803,-36 797,-36\"/>\n<text text-anchor=\"middle\" x=\"782\" y=\"-14.3\" font-family=\"Helvetica,sans-Serif\" font-size=\"14.00\" fill=\"#000000\">(...)</text>\n</g>\n<!-- 10815&#45;&gt;11467 -->\n<g id=\"edge15\" class=\"edge\">\n<title>10815&#45;&gt;11467</title>\n<path fill=\"none\" stroke=\"#000000\" d=\"M759.9185,-71.9769C763.5023,-63.2167 767.3138,-53.8995 770.7436,-45.5157\"/>\n<polygon fill=\"#000000\" stroke=\"#000000\" points=\"774.0109,-46.7727 774.5578,-36.192 767.532,-44.1222 774.0109,-46.7727\"/>\n</g>\n<!-- 11533 -->\n<g id=\"node18\" class=\"node\">\n<title>11533</title>\n<path fill=\"#843ee6\" stroke=\"#000000\" d=\"M1116,-244C1116,-244 922,-244 922,-244 916,-244 910,-238 910,-232 910,-232 910,-188 910,-188 910,-182 916,-176 922,-176 922,-176 1116,-176 1116,-176 1122,-176 1128,-182 1128,-188 1128,-188 1128,-232 1128,-232 1128,-238 1122,-244 1116,-244\"/>\n<text text-anchor=\"middle\" x=\"1019\" y=\"-228.8\" font-family=\"Helvetica,sans-Serif\" font-size=\"14.00\" fill=\"#000000\">extraction_type_class_2 &lt;= 0.5</text>\n<text text-anchor=\"middle\" x=\"1019\" y=\"-213.8\" font-family=\"Helvetica,sans-Serif\" font-size=\"14.00\" fill=\"#000000\">samples = 9.7%</text>\n<text text-anchor=\"middle\" x=\"1019\" y=\"-198.8\" font-family=\"Helvetica,sans-Serif\" font-size=\"14.00\" fill=\"#000000\">value = [0.019, 0.006, 0.974]</text>\n<text text-anchor=\"middle\" x=\"1019\" y=\"-183.8\" font-family=\"Helvetica,sans-Serif\" font-size=\"14.00\" fill=\"#000000\">class = non functional</text>\n</g>\n<!-- 11532&#45;&gt;11533 -->\n<g id=\"edge17\" class=\"edge\">\n<title>11532&#45;&gt;11533</title>\n<path fill=\"none\" stroke=\"#000000\" d=\"M1019,-279.9465C1019,-271.776 1019,-262.9318 1019,-254.3697\"/>\n<polygon fill=\"#000000\" stroke=\"#000000\" points=\"1022.5001,-254.13 1019,-244.13 1015.5001,-254.13 1022.5001,-254.13\"/>\n</g>\n<!-- 11978 -->\n<g id=\"node25\" class=\"node\">\n<title>11978</title>\n<path fill=\"#9558e9\" stroke=\"#000000\" d=\"M1504,-244C1504,-244 1328,-244 1328,-244 1322,-244 1316,-238 1316,-232 1316,-232 1316,-188 1316,-188 1316,-182 1322,-176 1328,-176 1328,-176 1504,-176 1504,-176 1510,-176 1516,-182 1516,-188 1516,-188 1516,-232 1516,-232 1516,-238 1510,-244 1504,-244\"/>\n<text text-anchor=\"middle\" x=\"1416\" y=\"-228.8\" font-family=\"Helvetica,sans-Serif\" font-size=\"14.00\" fill=\"#000000\">permit_2 &lt;= 0.5</text>\n<text text-anchor=\"middle\" x=\"1416\" y=\"-213.8\" font-family=\"Helvetica,sans-Serif\" font-size=\"14.00\" fill=\"#000000\">samples = 0.6%</text>\n<text text-anchor=\"middle\" x=\"1416\" y=\"-198.8\" font-family=\"Helvetica,sans-Serif\" font-size=\"14.00\" fill=\"#000000\">value = [0.132, 0.003, 0.864]</text>\n<text text-anchor=\"middle\" x=\"1416\" y=\"-183.8\" font-family=\"Helvetica,sans-Serif\" font-size=\"14.00\" fill=\"#000000\">class = non functional</text>\n</g>\n<!-- 11532&#45;&gt;11978 -->\n<g id=\"edge24\" class=\"edge\">\n<title>11532&#45;&gt;11978</title>\n<path fill=\"none\" stroke=\"#000000\" d=\"M1119.1799,-287.7564C1176.0709,-272.853 1247.3771,-254.1732 1305.84,-238.858\"/>\n<polygon fill=\"#000000\" stroke=\"#000000\" points=\"1307.0656,-242.1552 1315.8522,-236.2352 1305.2916,-235.3837 1307.0656,-242.1552\"/>\n</g>\n<!-- 11534 -->\n<g id=\"node19\" class=\"node\">\n<title>11534</title>\n<path fill=\"#833de5\" stroke=\"#000000\" d=\"M1052,-140C1052,-140 876,-140 876,-140 870,-140 864,-134 864,-128 864,-128 864,-84 864,-84 864,-78 870,-72 876,-72 876,-72 1052,-72 1052,-72 1058,-72 1064,-78 1064,-84 1064,-84 1064,-128 1064,-128 1064,-134 1058,-140 1052,-140\"/>\n<text text-anchor=\"middle\" x=\"964\" y=\"-124.8\" font-family=\"Helvetica,sans-Serif\" font-size=\"14.00\" fill=\"#000000\">management_12 &lt;= 0.5</text>\n<text text-anchor=\"middle\" x=\"964\" y=\"-109.8\" font-family=\"Helvetica,sans-Serif\" font-size=\"14.00\" fill=\"#000000\">samples = 8.1%</text>\n<text text-anchor=\"middle\" x=\"964\" y=\"-94.8\" font-family=\"Helvetica,sans-Serif\" font-size=\"14.00\" fill=\"#000000\">value = [0.012, 0.006, 0.982]</text>\n<text text-anchor=\"middle\" x=\"964\" y=\"-79.8\" font-family=\"Helvetica,sans-Serif\" font-size=\"14.00\" fill=\"#000000\">class = non functional</text>\n</g>\n<!-- 11533&#45;&gt;11534 -->\n<g id=\"edge18\" class=\"edge\">\n<title>11533&#45;&gt;11534</title>\n<path fill=\"none\" stroke=\"#000000\" d=\"M1000.9909,-175.9465C996.4801,-167.4169 991.5809,-158.153 986.8686,-149.2424\"/>\n<polygon fill=\"#000000\" stroke=\"#000000\" points=\"989.8185,-147.3337 982.0495,-140.13 983.6306,-150.6062 989.8185,-147.3337\"/>\n</g>\n<!-- 11803 -->\n<g id=\"node22\" class=\"node\">\n<title>11803</title>\n<path fill=\"#8946e7\" stroke=\"#000000\" d=\"M1293.5,-140C1293.5,-140 1094.5,-140 1094.5,-140 1088.5,-140 1082.5,-134 1082.5,-128 1082.5,-128 1082.5,-84 1082.5,-84 1082.5,-78 1088.5,-72 1094.5,-72 1094.5,-72 1293.5,-72 1293.5,-72 1299.5,-72 1305.5,-78 1305.5,-84 1305.5,-84 1305.5,-128 1305.5,-128 1305.5,-134 1299.5,-140 1293.5,-140\"/>\n<text text-anchor=\"middle\" x=\"1194\" y=\"-124.8\" font-family=\"Helvetica,sans-Serif\" font-size=\"14.00\" fill=\"#000000\">scheme_management_8 &lt;= 0.5</text>\n<text text-anchor=\"middle\" x=\"1194\" y=\"-109.8\" font-family=\"Helvetica,sans-Serif\" font-size=\"14.00\" fill=\"#000000\">samples = 1.6%</text>\n<text text-anchor=\"middle\" x=\"1194\" y=\"-94.8\" font-family=\"Helvetica,sans-Serif\" font-size=\"14.00\" fill=\"#000000\">value = [0.052, 0.01, 0.938]</text>\n<text text-anchor=\"middle\" x=\"1194\" y=\"-79.8\" font-family=\"Helvetica,sans-Serif\" font-size=\"14.00\" fill=\"#000000\">class = non functional</text>\n</g>\n<!-- 11533&#45;&gt;11803 -->\n<g id=\"edge21\" class=\"edge\">\n<title>11533&#45;&gt;11803</title>\n<path fill=\"none\" stroke=\"#000000\" d=\"M1076.3015,-175.9465C1092.7694,-166.1599 1110.8638,-155.4066 1127.8207,-145.3294\"/>\n<polygon fill=\"#000000\" stroke=\"#000000\" points=\"1129.7613,-148.2476 1136.5697,-140.13 1126.1851,-142.23 1129.7613,-148.2476\"/>\n</g>\n<!-- 11535 -->\n<g id=\"node20\" class=\"node\">\n<title>11535</title>\n<path fill=\"#c0c0c0\" stroke=\"#000000\" d=\"M943,-36C943,-36 913,-36 913,-36 907,-36 901,-30 901,-24 901,-24 901,-12 901,-12 901,-6 907,0 913,0 913,0 943,0 943,0 949,0 955,-6 955,-12 955,-12 955,-24 955,-24 955,-30 949,-36 943,-36\"/>\n<text text-anchor=\"middle\" x=\"928\" y=\"-14.3\" font-family=\"Helvetica,sans-Serif\" font-size=\"14.00\" fill=\"#000000\">(...)</text>\n</g>\n<!-- 11534&#45;&gt;11535 -->\n<g id=\"edge19\" class=\"edge\">\n<title>11534&#45;&gt;11535</title>\n<path fill=\"none\" stroke=\"#000000\" d=\"M950.0815,-71.9769C946.4977,-63.2167 942.6862,-53.8995 939.2564,-45.5157\"/>\n<polygon fill=\"#000000\" stroke=\"#000000\" points=\"942.468,-44.1222 935.4422,-36.192 935.9891,-46.7727 942.468,-44.1222\"/>\n</g>\n<!-- 11800 -->\n<g id=\"node21\" class=\"node\">\n<title>11800</title>\n<path fill=\"#c0c0c0\" stroke=\"#000000\" d=\"M1015,-36C1015,-36 985,-36 985,-36 979,-36 973,-30 973,-24 973,-24 973,-12 973,-12 973,-6 979,0 985,0 985,0 1015,0 1015,0 1021,0 1027,-6 1027,-12 1027,-12 1027,-24 1027,-24 1027,-30 1021,-36 1015,-36\"/>\n<text text-anchor=\"middle\" x=\"1000\" y=\"-14.3\" font-family=\"Helvetica,sans-Serif\" font-size=\"14.00\" fill=\"#000000\">(...)</text>\n</g>\n<!-- 11534&#45;&gt;11800 -->\n<g id=\"edge20\" class=\"edge\">\n<title>11534&#45;&gt;11800</title>\n<path fill=\"none\" stroke=\"#000000\" d=\"M977.9185,-71.9769C981.5023,-63.2167 985.3138,-53.8995 988.7436,-45.5157\"/>\n<polygon fill=\"#000000\" stroke=\"#000000\" points=\"992.0109,-46.7727 992.5578,-36.192 985.532,-44.1222 992.0109,-46.7727\"/>\n</g>\n<!-- 11804 -->\n<g id=\"node23\" class=\"node\">\n<title>11804</title>\n<path fill=\"#c0c0c0\" stroke=\"#000000\" d=\"M1173,-36C1173,-36 1143,-36 1143,-36 1137,-36 1131,-30 1131,-24 1131,-24 1131,-12 1131,-12 1131,-6 1137,0 1143,0 1143,0 1173,0 1173,0 1179,0 1185,-6 1185,-12 1185,-12 1185,-24 1185,-24 1185,-30 1179,-36 1173,-36\"/>\n<text text-anchor=\"middle\" x=\"1158\" y=\"-14.3\" font-family=\"Helvetica,sans-Serif\" font-size=\"14.00\" fill=\"#000000\">(...)</text>\n</g>\n<!-- 11803&#45;&gt;11804 -->\n<g id=\"edge22\" class=\"edge\">\n<title>11803&#45;&gt;11804</title>\n<path fill=\"none\" stroke=\"#000000\" d=\"M1180.0815,-71.9769C1176.4977,-63.2167 1172.6862,-53.8995 1169.2564,-45.5157\"/>\n<polygon fill=\"#000000\" stroke=\"#000000\" points=\"1172.468,-44.1222 1165.4422,-36.192 1165.9891,-46.7727 1172.468,-44.1222\"/>\n</g>\n<!-- 11915 -->\n<g id=\"node24\" class=\"node\">\n<title>11915</title>\n<path fill=\"#c0c0c0\" stroke=\"#000000\" d=\"M1245,-36C1245,-36 1215,-36 1215,-36 1209,-36 1203,-30 1203,-24 1203,-24 1203,-12 1203,-12 1203,-6 1209,0 1215,0 1215,0 1245,0 1245,0 1251,0 1257,-6 1257,-12 1257,-12 1257,-24 1257,-24 1257,-30 1251,-36 1245,-36\"/>\n<text text-anchor=\"middle\" x=\"1230\" y=\"-14.3\" font-family=\"Helvetica,sans-Serif\" font-size=\"14.00\" fill=\"#000000\">(...)</text>\n</g>\n<!-- 11803&#45;&gt;11915 -->\n<g id=\"edge23\" class=\"edge\">\n<title>11803&#45;&gt;11915</title>\n<path fill=\"none\" stroke=\"#000000\" d=\"M1207.9185,-71.9769C1211.5023,-63.2167 1215.3138,-53.8995 1218.7436,-45.5157\"/>\n<polygon fill=\"#000000\" stroke=\"#000000\" points=\"1222.0109,-46.7727 1222.5578,-36.192 1215.532,-44.1222 1222.0109,-46.7727\"/>\n</g>\n<!-- 11979 -->\n<g id=\"node26\" class=\"node\">\n<title>11979</title>\n<path fill=\"#f5cdb0\" stroke=\"#000000\" d=\"M1496,-140C1496,-140 1336,-140 1336,-140 1330,-140 1324,-134 1324,-128 1324,-128 1324,-84 1324,-84 1324,-78 1330,-72 1336,-72 1336,-72 1496,-72 1496,-72 1502,-72 1508,-78 1508,-84 1508,-84 1508,-128 1508,-128 1508,-134 1502,-140 1496,-140\"/>\n<text text-anchor=\"middle\" x=\"1416\" y=\"-124.8\" font-family=\"Helvetica,sans-Serif\" font-size=\"14.00\" fill=\"#000000\">public_meeting_1 &lt;= 0.5</text>\n<text text-anchor=\"middle\" x=\"1416\" y=\"-109.8\" font-family=\"Helvetica,sans-Serif\" font-size=\"14.00\" fill=\"#000000\">samples = 0.0%</text>\n<text text-anchor=\"middle\" x=\"1416\" y=\"-94.8\" font-family=\"Helvetica,sans-Serif\" font-size=\"14.00\" fill=\"#000000\">value = [0.625, 0.0, 0.375]</text>\n<text text-anchor=\"middle\" x=\"1416\" y=\"-79.8\" font-family=\"Helvetica,sans-Serif\" font-size=\"14.00\" fill=\"#000000\">class = functional</text>\n</g>\n<!-- 11978&#45;&gt;11979 -->\n<g id=\"edge25\" class=\"edge\">\n<title>11978&#45;&gt;11979</title>\n<path fill=\"none\" stroke=\"#000000\" d=\"M1416,-175.9465C1416,-167.776 1416,-158.9318 1416,-150.3697\"/>\n<polygon fill=\"#000000\" stroke=\"#000000\" points=\"1419.5001,-150.13 1416,-140.13 1412.5001,-150.13 1419.5001,-150.13\"/>\n</g>\n<!-- 11994 -->\n<g id=\"node29\" class=\"node\">\n<title>11994</title>\n<path fill=\"#9051e8\" stroke=\"#000000\" d=\"M1736,-140C1736,-140 1538,-140 1538,-140 1532,-140 1526,-134 1526,-128 1526,-128 1526,-84 1526,-84 1526,-78 1532,-72 1538,-72 1538,-72 1736,-72 1736,-72 1742,-72 1748,-78 1748,-84 1748,-84 1748,-128 1748,-128 1748,-134 1742,-140 1736,-140\"/>\n<text text-anchor=\"middle\" x=\"1637\" y=\"-124.8\" font-family=\"Helvetica,sans-Serif\" font-size=\"14.00\" fill=\"#000000\">extraction_type_group_7 &lt;= 0.5</text>\n<text text-anchor=\"middle\" x=\"1637\" y=\"-109.8\" font-family=\"Helvetica,sans-Serif\" font-size=\"14.00\" fill=\"#000000\">samples = 0.6%</text>\n<text text-anchor=\"middle\" x=\"1637\" y=\"-94.8\" font-family=\"Helvetica,sans-Serif\" font-size=\"14.00\" fill=\"#000000\">value = [0.105, 0.003, 0.892]</text>\n<text text-anchor=\"middle\" x=\"1637\" y=\"-79.8\" font-family=\"Helvetica,sans-Serif\" font-size=\"14.00\" fill=\"#000000\">class = non functional</text>\n</g>\n<!-- 11978&#45;&gt;11994 -->\n<g id=\"edge28\" class=\"edge\">\n<title>11978&#45;&gt;11994</title>\n<path fill=\"none\" stroke=\"#000000\" d=\"M1488.3637,-175.9465C1509.7326,-165.8906 1533.2703,-154.814 1555.1898,-144.4989\"/>\n<polygon fill=\"#000000\" stroke=\"#000000\" points=\"1556.9159,-147.5549 1564.4738,-140.13 1553.9353,-141.2212 1556.9159,-147.5549\"/>\n</g>\n<!-- 11980 -->\n<g id=\"node27\" class=\"node\">\n<title>11980</title>\n<path fill=\"#c0c0c0\" stroke=\"#000000\" d=\"M1395,-36C1395,-36 1365,-36 1365,-36 1359,-36 1353,-30 1353,-24 1353,-24 1353,-12 1353,-12 1353,-6 1359,0 1365,0 1365,0 1395,0 1395,0 1401,0 1407,-6 1407,-12 1407,-12 1407,-24 1407,-24 1407,-30 1401,-36 1395,-36\"/>\n<text text-anchor=\"middle\" x=\"1380\" y=\"-14.3\" font-family=\"Helvetica,sans-Serif\" font-size=\"14.00\" fill=\"#000000\">(...)</text>\n</g>\n<!-- 11979&#45;&gt;11980 -->\n<g id=\"edge26\" class=\"edge\">\n<title>11979&#45;&gt;11980</title>\n<path fill=\"none\" stroke=\"#000000\" d=\"M1402.0815,-71.9769C1398.4977,-63.2167 1394.6862,-53.8995 1391.2564,-45.5157\"/>\n<polygon fill=\"#000000\" stroke=\"#000000\" points=\"1394.468,-44.1222 1387.4422,-36.192 1387.9891,-46.7727 1394.468,-44.1222\"/>\n</g>\n<!-- 11981 -->\n<g id=\"node28\" class=\"node\">\n<title>11981</title>\n<path fill=\"#c0c0c0\" stroke=\"#000000\" d=\"M1467,-36C1467,-36 1437,-36 1437,-36 1431,-36 1425,-30 1425,-24 1425,-24 1425,-12 1425,-12 1425,-6 1431,0 1437,0 1437,0 1467,0 1467,0 1473,0 1479,-6 1479,-12 1479,-12 1479,-24 1479,-24 1479,-30 1473,-36 1467,-36\"/>\n<text text-anchor=\"middle\" x=\"1452\" y=\"-14.3\" font-family=\"Helvetica,sans-Serif\" font-size=\"14.00\" fill=\"#000000\">(...)</text>\n</g>\n<!-- 11979&#45;&gt;11981 -->\n<g id=\"edge27\" class=\"edge\">\n<title>11979&#45;&gt;11981</title>\n<path fill=\"none\" stroke=\"#000000\" d=\"M1429.9185,-71.9769C1433.5023,-63.2167 1437.3138,-53.8995 1440.7436,-45.5157\"/>\n<polygon fill=\"#000000\" stroke=\"#000000\" points=\"1444.0109,-46.7727 1444.5578,-36.192 1437.532,-44.1222 1444.0109,-46.7727\"/>\n</g>\n<!-- 11995 -->\n<g id=\"node30\" class=\"node\">\n<title>11995</title>\n<path fill=\"#c0c0c0\" stroke=\"#000000\" d=\"M1616,-36C1616,-36 1586,-36 1586,-36 1580,-36 1574,-30 1574,-24 1574,-24 1574,-12 1574,-12 1574,-6 1580,0 1586,0 1586,0 1616,0 1616,0 1622,0 1628,-6 1628,-12 1628,-12 1628,-24 1628,-24 1628,-30 1622,-36 1616,-36\"/>\n<text text-anchor=\"middle\" x=\"1601\" y=\"-14.3\" font-family=\"Helvetica,sans-Serif\" font-size=\"14.00\" fill=\"#000000\">(...)</text>\n</g>\n<!-- 11994&#45;&gt;11995 -->\n<g id=\"edge29\" class=\"edge\">\n<title>11994&#45;&gt;11995</title>\n<path fill=\"none\" stroke=\"#000000\" d=\"M1623.0815,-71.9769C1619.4977,-63.2167 1615.6862,-53.8995 1612.2564,-45.5157\"/>\n<polygon fill=\"#000000\" stroke=\"#000000\" points=\"1615.468,-44.1222 1608.4422,-36.192 1608.9891,-46.7727 1615.468,-44.1222\"/>\n</g>\n<!-- 12032 -->\n<g id=\"node31\" class=\"node\">\n<title>12032</title>\n<path fill=\"#c0c0c0\" stroke=\"#000000\" d=\"M1688,-36C1688,-36 1658,-36 1658,-36 1652,-36 1646,-30 1646,-24 1646,-24 1646,-12 1646,-12 1646,-6 1652,0 1658,0 1658,0 1688,0 1688,0 1694,0 1700,-6 1700,-12 1700,-12 1700,-24 1700,-24 1700,-30 1694,-36 1688,-36\"/>\n<text text-anchor=\"middle\" x=\"1673\" y=\"-14.3\" font-family=\"Helvetica,sans-Serif\" font-size=\"14.00\" fill=\"#000000\">(...)</text>\n</g>\n<!-- 11994&#45;&gt;12032 -->\n<g id=\"edge30\" class=\"edge\">\n<title>11994&#45;&gt;12032</title>\n<path fill=\"none\" stroke=\"#000000\" d=\"M1650.9185,-71.9769C1654.5023,-63.2167 1658.3138,-53.8995 1661.7436,-45.5157\"/>\n<polygon fill=\"#000000\" stroke=\"#000000\" points=\"1665.0109,-46.7727 1665.5578,-36.192 1658.532,-44.1222 1665.0109,-46.7727\"/>\n</g>\n</g>\n</svg>\n"
          },
          "metadata": {
            "tags": []
          }
        }
      ]
    },
    {
      "cell_type": "markdown",
      "metadata": {
        "id": "c53PR6ViHEIi",
        "colab_type": "text"
      },
      "source": [
        "# Feature Importance"
      ]
    },
    {
      "cell_type": "code",
      "metadata": {
        "id": "ajVfVrOXGkId",
        "colab_type": "code",
        "colab": {
          "base_uri": "https://localhost:8080/",
          "height": 1000
        },
        "outputId": "ed74e7c4-635a-4221-8b6b-ef2b8c745038"
      },
      "source": [
        "import matplotlib.pyplot as plt\n",
        "\n",
        "encoder = dtc_model.named_steps['onehotencoder']\n",
        "encoded_columns = encoder.transform(X_val).columns\n",
        "importances = pd.Series(model.feature_importances_, encoded_columns)\n",
        "plt.figure(figsize=(10,30))\n",
        "importances.sort_values().plot.barh()"
      ],
      "execution_count": 29,
      "outputs": [
        {
          "output_type": "execute_result",
          "data": {
            "text/plain": [
              "<matplotlib.axes._subplots.AxesSubplot at 0x7f9c9b7794e0>"
            ]
          },
          "metadata": {
            "tags": []
          },
          "execution_count": 29
        },
        {
          "output_type": "display_data",
          "data": {
            "image/png": "[encoded data removed]",
            "text/plain": [
              "<Figure size 720x2160 with 1 Axes>"
            ]
          },
          "metadata": {
            "tags": [],
            "needs_background": "light"
          }
        }
      ]
    },
    {
      "cell_type": "code",
      "metadata": {
        "id": "QoMlpYRAF_CC",
        "colab_type": "code",
        "colab": {}
      },
      "source": [
        "y_pred = dtc_model.predict(X_test)\n",
        "\n",
        "DATA_PATH = 'https://raw.githubusercontent.com/LambdaSchool/DS-Unit-2-Kaggle-Challenge/master/data/'\n",
        "sample_submission = pd.read_csv(DATA_PATH+'waterpumps/sample_submission.csv')\n",
        "submission = sample_submission.copy()\n",
        "submission['status_group'] = y_pred\n",
        "submission.to_csv('Cortez-Ethridge.csv', index=False)"
      ],
      "execution_count": 30,
      "outputs": []
    },
    {
      "cell_type": "markdown",
      "metadata": {
        "id": "glNvwh8Ga471",
        "colab_type": "text"
      },
      "source": [
        "#Metrics "
      ]
    },
    {
      "cell_type": "code",
      "metadata": {
        "id": "OPA2ssbtbcJ7",
        "colab_type": "code",
        "colab": {
          "base_uri": "https://localhost:8080/",
          "height": 416
        },
        "outputId": "3ebcb4fb-874f-486f-9360-54536ac4114c"
      },
      "source": [
        "from sklearn.tree import DecisionTreeClassifier\n",
        "from xgboost.sklearn import XGBClassifier  \n",
        "\n",
        "xgb= make_pipeline(\n",
        "    ce.OneHotEncoder(),\n",
        "    XGBClassifier(n_estimators=100,\n",
        "                  random_state=42,\n",
        "                  n_jobs=-1)\n",
        ")\n",
        "\n",
        "#dtc_model = DecisionTreeClassifier(max_depth=1)\n",
        "xgb.fit(X_train, y_train)"
      ],
      "execution_count": 31,
      "outputs": [
        {
          "output_type": "execute_result",
          "data": {
            "text/plain": [
              "Pipeline(memory=None,\n",
              "         steps=[('onehotencoder',\n",
              "                 OneHotEncoder(cols=['basin', 'region', 'public_meeting',\n",
              "                                     'recorded_by', 'scheme_management',\n",
              "                                     'permit', 'extraction_type',\n",
              "                                     'extraction_type_group',\n",
              "                                     'extraction_type_class', 'management',\n",
              "                                     'management_group', 'payment',\n",
              "                                     'payment_type', 'water_quality',\n",
              "                                     'quality_group', 'quantity',\n",
              "                                     'quantity_group', 'source', 'source_type',\n",
              "                                     's...\n",
              "                 XGBClassifier(base_score=0.5, booster='gbtree',\n",
              "                               colsample_bylevel=1, colsample_bynode=1,\n",
              "                               colsample_bytree=1, gamma=0, learning_rate=0.1,\n",
              "                               max_delta_step=0, max_depth=3,\n",
              "                               min_child_weight=1, missing=None,\n",
              "                               n_estimators=100, n_jobs=-1, nthread=None,\n",
              "                               objective='multi:softprob', random_state=42,\n",
              "                               reg_alpha=0, reg_lambda=1, scale_pos_weight=1,\n",
              "                               seed=None, silent=None, subsample=1,\n",
              "                               verbosity=1))],\n",
              "         verbose=False)"
            ]
          },
          "metadata": {
            "tags": []
          },
          "execution_count": 31
        }
      ]
    },
    {
      "cell_type": "code",
      "metadata": {
        "id": "_r9UktdDc22-",
        "colab_type": "code",
        "colab": {
          "base_uri": "https://localhost:8080/",
          "height": 34
        },
        "outputId": "b99aea3a-d262-4b76-fa30-b36b1fb2a177"
      },
      "source": [
        "xgb_train_acc = xgb.score(X_train, y_train)\n",
        "\n",
        "xgb_val_acc = xgb.score(X_val, y_val)\n",
        "\n",
        "print(xgb_train_acc, xgb_val_acc)"
      ],
      "execution_count": 32,
      "outputs": [
        {
          "output_type": "stream",
          "text": [
            "0.7381734006734006 0.7379629629629629\n"
          ],
          "name": "stdout"
        }
      ]
    },
    {
      "cell_type": "code",
      "metadata": {
        "id": "n0ZJ3608dF-e",
        "colab_type": "code",
        "colab": {
          "base_uri": "https://localhost:8080/",
          "height": 34
        },
        "outputId": "c9aeb5e3-1944-4b63-8465-ee4b1599404b"
      },
      "source": [
        "from sklearn.impute import SimpleImputer\n",
        "from sklearn.ensemble import RandomForestClassifier\n",
        "from sklearn.metrics import accuracy_score\n",
        "pipeline = make_pipeline(\n",
        "    ce.OneHotEncoder(),\n",
        "    SimpleImputer(strategy='mean'), \n",
        "    RandomForestClassifier(n_estimators=100, random_state=42, n_jobs=-1)\n",
        ")\n",
        "### Fit on train, score on val\n",
        "pipeline.fit(X_train, y_train)\n",
        "y_pred = pipeline.predict(X_val)\n",
        "#print('test Accuracy', accuracy_score(X_train, y_train))\n",
        "print('Validation Accuracy', accuracy_score(y_val, y_pred))"
      ],
      "execution_count": 52,
      "outputs": [
        {
          "output_type": "stream",
          "text": [
            "Validation Accuracy 0.7763468013468013\n"
          ],
          "name": "stdout"
        }
      ]
    },
    {
      "cell_type": "code",
      "metadata": {
        "id": "nBJa_JSLjCR-",
        "colab_type": "code",
        "colab": {}
      },
      "source": [
        "y_pred = pipeline.predict(X_test)\n",
        "\n",
        "DATA_PATH = 'https://raw.githubusercontent.com/LambdaSchool/DS-Unit-2-Kaggle-Challenge/master/data/'\n",
        "sample_submission = pd.read_csv(DATA_PATH+'waterpumps/sample_submission.csv')\n",
        "submission = sample_submission.copy()\n",
        "submission['status_group'] = y_pred\n",
        "submission.to_csv('Cortez-Ethridge2.csv', index=False)"
      ],
      "execution_count": 51,
      "outputs": []
    },
    {
      "cell_type": "code",
      "metadata": {
        "id": "Tqnb1t3EyUC1",
        "colab_type": "code",
        "colab": {}
      },
      "source": [
        "y_pred = pipeline.predict(X_val)\n"
      ],
      "execution_count": 43,
      "outputs": []
    },
    {
      "cell_type": "code",
      "metadata": {
        "id": "8glWoq5Ka9-O",
        "colab_type": "code",
        "colab": {
          "base_uri": "https://localhost:8080/",
          "height": 52
        },
        "outputId": "7bb507f9-6397-4baf-8ad6-155d1372fc4e"
      },
      "source": [
        "from sklearn.metrics import confusion_matrix\n",
        "confusion_matrix(y_val, y_pred)\n",
        "from sklearn.utils.multiclass import unique_labels\n",
        "unique_labels(y_val)"
      ],
      "execution_count": 45,
      "outputs": [
        {
          "output_type": "execute_result",
          "data": {
            "text/plain": [
              "array(['functional', 'functional needs repair', 'non functional'],\n",
              "      dtype='<U23')"
            ]
          },
          "metadata": {
            "tags": []
          },
          "execution_count": 45
        }
      ]
    },
    {
      "cell_type": "code",
      "metadata": {
        "id": "L5Bn5wiEdv4C",
        "colab_type": "code",
        "colab": {
          "base_uri": "https://localhost:8080/",
          "height": 52
        },
        "outputId": "9095bc2b-9302-4fde-e634-92794e7d89d4"
      },
      "source": [
        "from sklearn.utils.multiclass import unique_labels\n",
        "unique_labels(y_val)"
      ],
      "execution_count": 46,
      "outputs": [
        {
          "output_type": "execute_result",
          "data": {
            "text/plain": [
              "array(['functional', 'functional needs repair', 'non functional'],\n",
              "      dtype='<U23')"
            ]
          },
          "metadata": {
            "tags": []
          },
          "execution_count": 46
        }
      ]
    },
    {
      "cell_type": "code",
      "metadata": {
        "id": "156st346doKf",
        "colab_type": "code",
        "colab": {
          "base_uri": "https://localhost:8080/",
          "height": 121
        },
        "outputId": "91b62a41-b9bd-47ec-9bb4-a8fe4e773281"
      },
      "source": [
        "def plot_confusion_matrix(y_true, y_pred):\n",
        "    labels = unique_labels(y_true)\n",
        "    columns = [f'Predicted {label}' for label in labels]\n",
        "    index = [f'Actual {label}' for label in labels]\n",
        "    return columns, index\n",
        "\n",
        "plot_confusion_matrix(y_val, y_pred)\n"
      ],
      "execution_count": 47,
      "outputs": [
        {
          "output_type": "execute_result",
          "data": {
            "text/plain": [
              "(['Predicted functional',\n",
              "  'Predicted functional needs repair',\n",
              "  'Predicted non functional'],\n",
              " ['Actual functional',\n",
              "  'Actual functional needs repair',\n",
              "  'Actual non functional'])"
            ]
          },
          "metadata": {
            "tags": []
          },
          "execution_count": 47
        }
      ]
    },
    {
      "cell_type": "code",
      "metadata": {
        "id": "uvkEUq4MdqHs",
        "colab_type": "code",
        "colab": {
          "base_uri": "https://localhost:8080/",
          "height": 143
        },
        "outputId": "a7ea76dd-78f7-4971-f97a-1f75f8f84c0a"
      },
      "source": [
        "def plot_confusion_matrix(y_true, y_pred):\n",
        "    labels = unique_labels(y_true)\n",
        "    columns = [f'Predicted {label}' for label in labels]\n",
        "    index = [f'Actual {label}' for label in labels]\n",
        "    table = pd.DataFrame(confusion_matrix(y_true, y_pred), \n",
        "                         columns=columns, index=index)\n",
        "    return table\n",
        "\n",
        "plot_confusion_matrix(y_val, y_pred)"
      ],
      "execution_count": 48,
      "outputs": [
        {
          "output_type": "execute_result",
          "data": {
            "text/html": [
              "<div>\n",
              "<style scoped>\n",
              "    .dataframe tbody tr th:only-of-type {\n",
              "        vertical-align: middle;\n",
              "    }\n",
              "\n",
              "    .dataframe tbody tr th {\n",
              "        vertical-align: top;\n",
              "    }\n",
              "\n",
              "    .dataframe thead th {\n",
              "        text-align: right;\n",
              "    }\n",
              "</style>\n",
              "<table border=\"1\" class=\"dataframe\">\n",
              "  <thead>\n",
              "    <tr style=\"text-align: right;\">\n",
              "      <th></th>\n",
              "      <th>Predicted functional</th>\n",
              "      <th>Predicted functional needs repair</th>\n",
              "      <th>Predicted non functional</th>\n",
              "    </tr>\n",
              "  </thead>\n",
              "  <tbody>\n",
              "    <tr>\n",
              "      <th>Actual functional</th>\n",
              "      <td>5692</td>\n",
              "      <td>125</td>\n",
              "      <td>635</td>\n",
              "    </tr>\n",
              "    <tr>\n",
              "      <th>Actual functional needs repair</th>\n",
              "      <td>500</td>\n",
              "      <td>206</td>\n",
              "      <td>157</td>\n",
              "    </tr>\n",
              "    <tr>\n",
              "      <th>Actual non functional</th>\n",
              "      <td>1167</td>\n",
              "      <td>73</td>\n",
              "      <td>3325</td>\n",
              "    </tr>\n",
              "  </tbody>\n",
              "</table>\n",
              "</div>"
            ],
            "text/plain": [
              "                                Predicted functional  ...  Predicted non functional\n",
              "Actual functional                               5692  ...                       635\n",
              "Actual functional needs repair                   500  ...                       157\n",
              "Actual non functional                           1167  ...                      3325\n",
              "\n",
              "[3 rows x 3 columns]"
            ]
          },
          "metadata": {
            "tags": []
          },
          "execution_count": 48
        }
      ]
    },
    {
      "cell_type": "code",
      "metadata": {
        "id": "NVgQIpsni6QV",
        "colab_type": "code",
        "colab": {
          "base_uri": "https://localhost:8080/",
          "height": 421
        },
        "outputId": "0cbc7a9d-64e3-45fc-88d2-2cf6a4985b68"
      },
      "source": [
        "import seaborn as sns\n",
        "def plot_confusion_matrix(y_true, y_pred):\n",
        "    labels = unique_labels(y_true)\n",
        "    columns = [f'Predicted {label}' for label in labels]\n",
        "    index = [f'Actual {label}' for label in labels]\n",
        "    table = pd.DataFrame(confusion_matrix(y_true, y_pred), \n",
        "                         columns=columns, index=index)\n",
        "    return sns.heatmap(table, annot=True, fmt='d', cmap='viridis')\n",
        "\n",
        "plot_confusion_matrix(y_val, y_pred);"
      ],
      "execution_count": 49,
      "outputs": [
        {
          "output_type": "display_data",
          "data": {
            "image/png": "[encoded data removed]",
            "text/plain": [
              "<Figure size 432x288 with 2 Axes>"
            ]
          },
          "metadata": {
            "tags": [],
            "needs_background": "light"
          }
        }
      ]
    },
    {
      "cell_type": "code",
      "metadata": {
        "id": "LQIf5yXli8A5",
        "colab_type": "code",
        "colab": {}
      },
      "source": [
        ""
      ],
      "execution_count": null,
      "outputs": []
    }
  ]
}